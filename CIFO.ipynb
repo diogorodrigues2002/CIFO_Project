{
  "cells": [
    {
      "cell_type": "code",
      "execution_count": 1,
      "id": "77ae0f13",
      "metadata": {
        "id": "77ae0f13"
      },
      "outputs": [],
      "source": [
        "import sys\n",
        "sys.path.append('..')\n",
        "import random\n",
        "import numpy as np\n",
        "import pandas as pd\n",
        "from copy import deepcopy\n",
        "from collections import Counter\n",
        "from collections import defaultdict"
      ]
    },
    {
      "cell_type": "markdown",
      "id": "9d428df5",
      "metadata": {
        "id": "9d428df5"
      },
      "source": [
        "# Load the Data"
      ]
    },
    {
      "cell_type": "code",
      "execution_count": 2,
      "id": "aeeda031",
      "metadata": {
        "id": "aeeda031"
      },
      "outputs": [],
      "source": [
        "# Load the data from the Excel file\n",
        "df = pd.read_excel('players.xlsx')\n",
        "\n",
        "# Extract player data\n",
        "players = []\n",
        "for _, row in df.iterrows():\n",
        "    players.append((row['Name'], row['Position'], row['Skill'], row['Salary (â‚¬M)']))"
      ]
    },
    {
      "cell_type": "code",
      "execution_count": 3,
      "id": "c893a92a",
      "metadata": {
        "colab": {
          "base_uri": "https://localhost:8080/"
        },
        "id": "c893a92a",
        "outputId": "10a95ba4-7bff-44d1-9f3f-a9ea74cffb7e"
      },
      "outputs": [
        {
          "name": "stdout",
          "output_type": "stream",
          "text": [
            "         Player Name Position  Rating  Performance\n",
            "0        Alex Carter       GK      85           90\n",
            "1       Jordan Smith       GK      88          100\n",
            "2      Ryan Mitchell       GK      83           85\n",
            "3     Chris Thompson       GK      80           80\n",
            "4    Blake Henderson       GK      87           95\n",
            "5      Daniel Foster      DEF      90          110\n",
            "6      Lucas Bennett      DEF      85           90\n",
            "7        Owen Parker      DEF      88          100\n",
            "8       Ethan Howard      DEF      80           70\n",
            "9         Mason Reed      DEF      82           75\n",
            "10      Logan Brooks      DEF      86           95\n",
            "11      Caleb Fisher      DEF      84           85\n",
            "12     Nathan Wright      MID      92          120\n",
            "13      Connor Hayes      MID      89          105\n",
            "14      Dylan Morgan      MID      91          115\n",
            "15     Hunter Cooper      MID      83           85\n",
            "16     Austin Torres      MID      82           80\n",
            "17  Gavin Richardson      MID      87           95\n",
            "18      Spencer Ward      MID      84           85\n",
            "19   Sebastian Perry      FWD      95          150\n",
            "20     Xavier Bryant      FWD      90          120\n",
            "21    Elijah Sanders      FWD      93          140\n",
            "22    Adrian Collins      FWD      85           90\n",
            "23     Tyler Jenkins      FWD      80           70\n",
            "24      Chase Murphy      FWD      86           95\n",
            "25     Landon Powell      FWD      89          110\n",
            "26      Julian Scott      FWD      92          130\n",
            "27    Bentley Rivera      MID      88          100\n",
            "28    Maxwell Flores      DEF      81           72\n",
            "29      Dominic Bell      MID      86           95\n",
            "30     Jaxon Griffin      DEF      79           65\n",
            "31   Ashton Phillips      MID      90          110\n",
            "32       Colton Gray      FWD      91          125\n",
            "33    Brayden Hughes      DEF      87          100\n",
            "34    Zachary Nelson      FWD      86           92\n"
          ]
        }
      ],
      "source": [
        "df = pd.DataFrame(players, columns=['Player Name', 'Position', 'Rating', 'Performance'])\n",
        "print(df)"
      ]
    },
    {
      "cell_type": "markdown",
      "id": "3448f61a",
      "metadata": {},
      "source": [
        "# Problem Definition"
      ]
    },
    {
      "cell_type": "markdown",
      "id": "48560747",
      "metadata": {},
      "source": [
        "``Sports League Optimization``\n",
        "\n",
        "**Objective** - Assign  players  to  teams according to specified positions in  a  way  that  ensures a balanced distribution of talent while staying within salary caps. (5 teams, 7 players each)\n",
        "\n",
        "**Players** - Defined by a set of attributes that include:\n",
        "- Skill rating: Represents the player's ability/talent. \n",
        "- Cost: The player's salary (in milions). \n",
        "- Position: Goalkeeper  (GK),  Defender  (DEF),  Midfielder  (MID),  or \n",
        "    Forward (FWD). \n",
        "\n",
        "**Constraints** - An object is considered a solution if it complies with these conditions:\n",
        "- Each team must consist of: 1 Goalkeeper, 2 Defenders, 2 Midfielders and 2 Forwards. \n",
        "- Each player is assigned to exactly one team.\n",
        "- All teams must be complete.\n",
        "- Each team should not exceed a 750€ million total budget. \n",
        "- The average skill rating of the players should be roughly the same among the teams.\n"
      ]
    },
    {
      "cell_type": "markdown",
      "id": "8925f4ae",
      "metadata": {},
      "source": [
        "# Data Exploration"
      ]
    },
    {
      "cell_type": "code",
      "execution_count": 4,
      "id": "aba03c84",
      "metadata": {
        "colab": {
          "base_uri": "https://localhost:8080/"
        },
        "id": "aba03c84",
        "outputId": "3d00810c-c84c-4168-f41f-1cd8ba5b224f"
      },
      "outputs": [
        {
          "name": "stdout",
          "output_type": "stream",
          "text": [
            "This dataset contains 35 players.\n"
          ]
        },
        {
          "data": {
            "text/plain": [
              "[('Alex Carter', 'GK', 85, 90),\n",
              " ('Jordan Smith', 'GK', 88, 100),\n",
              " ('Ryan Mitchell', 'GK', 83, 85),\n",
              " ('Chris Thompson', 'GK', 80, 80),\n",
              " ('Blake Henderson', 'GK', 87, 95),\n",
              " ('Daniel Foster', 'DEF', 90, 110),\n",
              " ('Lucas Bennett', 'DEF', 85, 90),\n",
              " ('Owen Parker', 'DEF', 88, 100),\n",
              " ('Ethan Howard', 'DEF', 80, 70),\n",
              " ('Mason Reed', 'DEF', 82, 75),\n",
              " ('Logan Brooks', 'DEF', 86, 95),\n",
              " ('Caleb Fisher', 'DEF', 84, 85),\n",
              " ('Nathan Wright', 'MID', 92, 120),\n",
              " ('Connor Hayes', 'MID', 89, 105),\n",
              " ('Dylan Morgan', 'MID', 91, 115),\n",
              " ('Hunter Cooper', 'MID', 83, 85),\n",
              " ('Austin Torres', 'MID', 82, 80),\n",
              " ('Gavin Richardson', 'MID', 87, 95),\n",
              " ('Spencer Ward', 'MID', 84, 85),\n",
              " ('Sebastian Perry', 'FWD', 95, 150),\n",
              " ('Xavier Bryant', 'FWD', 90, 120),\n",
              " ('Elijah Sanders', 'FWD', 93, 140),\n",
              " ('Adrian Collins', 'FWD', 85, 90),\n",
              " ('Tyler Jenkins', 'FWD', 80, 70),\n",
              " ('Chase Murphy', 'FWD', 86, 95),\n",
              " ('Landon Powell', 'FWD', 89, 110),\n",
              " ('Julian Scott', 'FWD', 92, 130),\n",
              " ('Bentley Rivera', 'MID', 88, 100),\n",
              " ('Maxwell Flores', 'DEF', 81, 72),\n",
              " ('Dominic Bell', 'MID', 86, 95),\n",
              " ('Jaxon Griffin', 'DEF', 79, 65),\n",
              " ('Ashton Phillips', 'MID', 90, 110),\n",
              " ('Colton Gray', 'FWD', 91, 125),\n",
              " ('Brayden Hughes', 'DEF', 87, 100),\n",
              " ('Zachary Nelson', 'FWD', 86, 92)]"
            ]
          },
          "execution_count": 4,
          "metadata": {},
          "output_type": "execute_result"
        }
      ],
      "source": [
        "print(f\"This dataset contains {len(df)} players.\")\n",
        "players"
      ]
    },
    {
      "cell_type": "code",
      "execution_count": 5,
      "id": "f7a541e7",
      "metadata": {},
      "outputs": [
        {
          "name": "stdout",
          "output_type": "stream",
          "text": [
            "There are 0 duplicate rows.\n"
          ]
        }
      ],
      "source": [
        "num_duplicates = df.duplicated().sum()\n",
        "print(f\"There are {num_duplicates} duplicate rows.\")"
      ]
    },
    {
      "cell_type": "code",
      "execution_count": 6,
      "id": "f6b49f49",
      "metadata": {},
      "outputs": [
        {
          "name": "stdout",
          "output_type": "stream",
          "text": [
            "There are 4 unique positions in the dataset.\n"
          ]
        },
        {
          "data": {
            "text/plain": [
              "DEF    10\n",
              "MID    10\n",
              "FWD    10\n",
              "GK      5\n",
              "Name: Position, dtype: int64"
            ]
          },
          "execution_count": 6,
          "metadata": {},
          "output_type": "execute_result"
        }
      ],
      "source": [
        "print(f\"There are {df['Position'].nunique()} unique positions in the dataset.\")\n",
        "df['Position'].value_counts()"
      ]
    },
    {
      "cell_type": "code",
      "execution_count": 7,
      "id": "8b5d556a",
      "metadata": {},
      "outputs": [
        {
          "data": {
            "text/plain": [
              "count    35.000000\n",
              "mean     86.400000\n",
              "std       4.095909\n",
              "min      79.000000\n",
              "25%      83.500000\n",
              "50%      86.000000\n",
              "75%      89.500000\n",
              "max      95.000000\n",
              "Name: Rating, dtype: float64"
            ]
          },
          "execution_count": 7,
          "metadata": {},
          "output_type": "execute_result"
        }
      ],
      "source": [
        "df['Rating'].describe()"
      ]
    },
    {
      "cell_type": "markdown",
      "id": "7a0b47f6",
      "metadata": {},
      "source": [
        "Player ratings vary from 79 to 95. The average rating is 86.4."
      ]
    },
    {
      "cell_type": "code",
      "execution_count": 8,
      "id": "65f89397",
      "metadata": {},
      "outputs": [
        {
          "data": {
            "text/plain": [
              "count     35.000000\n",
              "mean      97.828571\n",
              "std       19.876805\n",
              "min       65.000000\n",
              "25%       85.000000\n",
              "50%       95.000000\n",
              "75%      110.000000\n",
              "max      150.000000\n",
              "Name: Performance, dtype: float64"
            ]
          },
          "execution_count": 8,
          "metadata": {},
          "output_type": "execute_result"
        }
      ],
      "source": [
        "df['Performance'].describe()"
      ]
    },
    {
      "cell_type": "markdown",
      "id": "fd551130",
      "metadata": {},
      "source": [
        "Players costs vary from 65€ million to 150€ million. The average cost for a player is ~98€ million."
      ]
    },
    {
      "cell_type": "markdown",
      "id": "c9278634",
      "metadata": {},
      "source": [
        "# Solution Implementation"
      ]
    },
    {
      "cell_type": "markdown",
      "id": "15b6cbdc",
      "metadata": {},
      "source": [
        "## Defining constants"
      ]
    },
    {
      "cell_type": "code",
      "execution_count": 9,
      "id": "697b5499",
      "metadata": {
        "id": "697b5499"
      },
      "outputs": [],
      "source": [
        "# Constants\n",
        "NUM_TEAMS = 5\n",
        "PLAYERS_PER_TEAM = 7\n",
        "MAX_BUDGET = 750  # Million €\n",
        "POSITION_REQUIREMENTS = {\"GK\": 1, \"DEF\": 2, \"MID\": 2, \"FWD\": 2}"
      ]
    },
    {
      "cell_type": "markdown",
      "id": "0c6579dd",
      "metadata": {},
      "source": [
        "## Defining Solution Function"
      ]
    },
    {
      "cell_type": "code",
      "execution_count": 96,
      "id": "1033421e",
      "metadata": {
        "id": "1033421e"
      },
      "outputs": [],
      "source": [
        "class TeamAssignmentSolution:\n",
        "    def __init__(self, players, population=None):\n",
        "        self.players = players  # List of (name, position, skill, cost)\n",
        "        self.population = population if population else {}\n",
        "\n",
        "    def random_initial_representation(self, max_attempts=1000):\n",
        "        \"\"\"Randomly create a valid team assignment representation.\"\"\"\n",
        "        for attempt in range(max_attempts):\n",
        "            teams = {i: {\"GK\": [], \"DEF\": [], \"MID\": [], \"FWD\": [], \"total_cost\": 0} for i in range(NUM_TEAMS)}\n",
        "            assigned_players = set()\n",
        "            shuffled_players = random.sample(self.players, len(self.players))\n",
        "\n",
        "            for player in shuffled_players:\n",
        "                name, position, skill, cost = player\n",
        "                for team_id in sorted(teams, key=lambda tid: teams[tid][\"total_cost\"]):\n",
        "                    team = teams[team_id]\n",
        "                    if len(team[position]) < POSITION_REQUIREMENTS[position] and team[\"total_cost\"] + cost <= MAX_BUDGET:\n",
        "                        team[position].append(player)\n",
        "                        team[\"total_cost\"] += cost\n",
        "                        assigned_players.add(name)\n",
        "                        break  # Move to next player\n",
        "                # If no team could take the player, we skip to next (will check validity below)\n",
        "\n",
        "            # Validate result\n",
        "            valid_teams = True\n",
        "            for team in teams.values():\n",
        "                total_players = sum(len(team[pos]) for pos in POSITION_REQUIREMENTS)\n",
        "                if total_players != PLAYERS_PER_TEAM:\n",
        "                    valid_teams = False\n",
        "                    break\n",
        "                for pos, required_count in POSITION_REQUIREMENTS.items():\n",
        "                    if len(team[pos]) != required_count:\n",
        "                        valid_teams = False\n",
        "                        break\n",
        "\n",
        "            if valid_teams and len(assigned_players) == len(self.players):\n",
        "                self.population = teams\n",
        "                return self.population\n",
        "\n",
        "        raise ValueError(\"Failed to generate a valid team assignment after many attempts.\")\n",
        "\n",
        "    def fitness(self):\n",
        "        \"\"\"Evaluate team balance: lower standard deviation of average skill means better balance.\"\"\"\n",
        "        if not self.population:\n",
        "            raise ValueError(\"Population not initialized. Run random_initial_representation() first.\")\n",
        "\n",
        "        team_avg_skills = []\n",
        "\n",
        "        for team in self.population.values():\n",
        "            total_skill = 0\n",
        "            total_players = 0\n",
        "            for position in POSITION_REQUIREMENTS:\n",
        "                for player in team[position]:\n",
        "                    total_skill += player[2]  # Skill\n",
        "                    total_players += 1\n",
        "            avg_skill = total_skill / total_players if total_players > 0 else 0\n",
        "            team_avg_skills.append(avg_skill)\n",
        "\n",
        "        return np.std(team_avg_skills)  # Lower is better (balanced teams)\n",
        "\n",
        "\n",
        "    def print_teams(self):\n",
        "        for i, team in self.population.items():\n",
        "            total_skill = 0\n",
        "            total_players = 0\n",
        "\n",
        "            for position in [\"GK\", \"DEF\", \"MID\", \"FWD\"]:\n",
        "                total_skill += sum(player[2] for player in team[position])\n",
        "                total_players += len(team[position])\n",
        "\n",
        "            avg_skill = total_skill / total_players if total_players > 0 else 0\n",
        "\n",
        "            print(f\"\\nTeam {i + 1} (Total Cost: {team['total_cost']}M, Average Skill: {avg_skill:.2f})\")\n",
        "            for position in [\"GK\", \"DEF\", \"MID\", \"FWD\"]:\n",
        "                for player in team[position]:\n",
        "                    name, pos, skill, cost = player\n",
        "                    print(f\"  {name} - {pos} | Skill: {skill}, Cost: {cost}M\")\n"
      ]
    },
    {
      "cell_type": "code",
      "execution_count": 68,
      "id": "8070ee9c",
      "metadata": {},
      "outputs": [
        {
          "data": {
            "text/plain": [
              "{0: {'GK': [('Chris Thompson', 'GK', 80, 80)],\n",
              "  'DEF': [('Caleb Fisher', 'DEF', 84, 85), ('Owen Parker', 'DEF', 88, 100)],\n",
              "  'MID': [('Austin Torres', 'MID', 82, 80), ('Dylan Morgan', 'MID', 91, 115)],\n",
              "  'FWD': [('Landon Powell', 'FWD', 89, 110), ('Colton Gray', 'FWD', 91, 125)],\n",
              "  'total_cost': 695},\n",
              " 1: {'GK': [('Ryan Mitchell', 'GK', 83, 85)],\n",
              "  'DEF': [('Lucas Bennett', 'DEF', 85, 90),\n",
              "   ('Brayden Hughes', 'DEF', 87, 100)],\n",
              "  'MID': [('Gavin Richardson', 'MID', 87, 95),\n",
              "   ('Bentley Rivera', 'MID', 88, 100)],\n",
              "  'FWD': [('Xavier Bryant', 'FWD', 90, 120),\n",
              "   ('Elijah Sanders', 'FWD', 93, 140)],\n",
              "  'total_cost': 730},\n",
              " 2: {'GK': [('Alex Carter', 'GK', 85, 90)],\n",
              "  'DEF': [('Daniel Foster', 'DEF', 90, 110),\n",
              "   ('Maxwell Flores', 'DEF', 81, 72)],\n",
              "  'MID': [('Connor Hayes', 'MID', 89, 105), ('Spencer Ward', 'MID', 84, 85)],\n",
              "  'FWD': [('Julian Scott', 'FWD', 92, 130), ('Tyler Jenkins', 'FWD', 80, 70)],\n",
              "  'total_cost': 662},\n",
              " 3: {'GK': [('Jordan Smith', 'GK', 88, 100)],\n",
              "  'DEF': [('Logan Brooks', 'DEF', 86, 95), ('Jaxon Griffin', 'DEF', 79, 65)],\n",
              "  'MID': [('Dominic Bell', 'MID', 86, 95),\n",
              "   ('Ashton Phillips', 'MID', 90, 110)],\n",
              "  'FWD': [('Sebastian Perry', 'FWD', 95, 150),\n",
              "   ('Adrian Collins', 'FWD', 85, 90)],\n",
              "  'total_cost': 705},\n",
              " 4: {'GK': [('Blake Henderson', 'GK', 87, 95)],\n",
              "  'DEF': [('Mason Reed', 'DEF', 82, 75), ('Ethan Howard', 'DEF', 80, 70)],\n",
              "  'MID': [('Hunter Cooper', 'MID', 83, 85), ('Nathan Wright', 'MID', 92, 120)],\n",
              "  'FWD': [('Zachary Nelson', 'FWD', 86, 92), ('Chase Murphy', 'FWD', 86, 95)],\n",
              "  'total_cost': 632}}"
            ]
          },
          "execution_count": 68,
          "metadata": {},
          "output_type": "execute_result"
        }
      ],
      "source": [
        "solution = TeamAssignmentSolution(players)\n",
        "solution.random_initial_representation()"
      ]
    },
    {
      "cell_type": "markdown",
      "id": "a37bf8f1",
      "metadata": {},
      "source": [
        "## Assessing Fitness"
      ]
    },
    {
      "cell_type": "markdown",
      "id": "9f64d198",
      "metadata": {},
      "source": [
        "In optimization problems, \"fitness\" is a measure of how good the solution is based on certain criteria. For our approach, we will assess fitness based on the average skill rating of the players on the 5 teams. This will be stored as their skill rating's standard deviation and from now on we intend on gradually improving our teams by swapping players between them to decrease the fitness score (as in a minimization problem)."
      ]
    },
    {
      "cell_type": "code",
      "execution_count": 69,
      "id": "6938226b",
      "metadata": {
        "colab": {
          "base_uri": "https://localhost:8080/"
        },
        "id": "6938226b",
        "outputId": "1ea793f9-6ac2-4b51-94c8-0fd5ca8cd6ad"
      },
      "outputs": [
        {
          "name": "stdout",
          "output_type": "stream",
          "text": [
            "Fitness Score: 0.8494896427039148\n",
            "\n",
            "Team 1 (Total Cost: 695M, Average Skill: 86.43)\n",
            "  Chris Thompson - GK | Skill: 80, Cost: 80M\n",
            "  Caleb Fisher - DEF | Skill: 84, Cost: 85M\n",
            "  Owen Parker - DEF | Skill: 88, Cost: 100M\n",
            "  Austin Torres - MID | Skill: 82, Cost: 80M\n",
            "  Dylan Morgan - MID | Skill: 91, Cost: 115M\n",
            "  Landon Powell - FWD | Skill: 89, Cost: 110M\n",
            "  Colton Gray - FWD | Skill: 91, Cost: 125M\n",
            "\n",
            "Team 2 (Total Cost: 730M, Average Skill: 87.57)\n",
            "  Ryan Mitchell - GK | Skill: 83, Cost: 85M\n",
            "  Lucas Bennett - DEF | Skill: 85, Cost: 90M\n",
            "  Brayden Hughes - DEF | Skill: 87, Cost: 100M\n",
            "  Gavin Richardson - MID | Skill: 87, Cost: 95M\n",
            "  Bentley Rivera - MID | Skill: 88, Cost: 100M\n",
            "  Xavier Bryant - FWD | Skill: 90, Cost: 120M\n",
            "  Elijah Sanders - FWD | Skill: 93, Cost: 140M\n",
            "\n",
            "Team 3 (Total Cost: 662M, Average Skill: 85.86)\n",
            "  Alex Carter - GK | Skill: 85, Cost: 90M\n",
            "  Daniel Foster - DEF | Skill: 90, Cost: 110M\n",
            "  Maxwell Flores - DEF | Skill: 81, Cost: 72M\n",
            "  Connor Hayes - MID | Skill: 89, Cost: 105M\n",
            "  Spencer Ward - MID | Skill: 84, Cost: 85M\n",
            "  Julian Scott - FWD | Skill: 92, Cost: 130M\n",
            "  Tyler Jenkins - FWD | Skill: 80, Cost: 70M\n",
            "\n",
            "Team 4 (Total Cost: 705M, Average Skill: 87.00)\n",
            "  Jordan Smith - GK | Skill: 88, Cost: 100M\n",
            "  Logan Brooks - DEF | Skill: 86, Cost: 95M\n",
            "  Jaxon Griffin - DEF | Skill: 79, Cost: 65M\n",
            "  Dominic Bell - MID | Skill: 86, Cost: 95M\n",
            "  Ashton Phillips - MID | Skill: 90, Cost: 110M\n",
            "  Sebastian Perry - FWD | Skill: 95, Cost: 150M\n",
            "  Adrian Collins - FWD | Skill: 85, Cost: 90M\n",
            "\n",
            "Team 5 (Total Cost: 632M, Average Skill: 85.14)\n",
            "  Blake Henderson - GK | Skill: 87, Cost: 95M\n",
            "  Mason Reed - DEF | Skill: 82, Cost: 75M\n",
            "  Ethan Howard - DEF | Skill: 80, Cost: 70M\n",
            "  Hunter Cooper - MID | Skill: 83, Cost: 85M\n",
            "  Nathan Wright - MID | Skill: 92, Cost: 120M\n",
            "  Zachary Nelson - FWD | Skill: 86, Cost: 92M\n",
            "  Chase Murphy - FWD | Skill: 86, Cost: 95M\n"
          ]
        }
      ],
      "source": [
        "# Evaluate the fitness of the initial population\n",
        "fitness_score = solution.fitness()\n",
        "print(f\"Fitness Score: {fitness_score}\")\n",
        "solution.print_teams()"
      ]
    },
    {
      "cell_type": "markdown",
      "id": "eb12241a",
      "metadata": {
        "id": "eb12241a"
      },
      "source": [
        "# Selection Mechanism"
      ]
    },
    {
      "cell_type": "markdown",
      "id": "d4eab81f",
      "metadata": {},
      "source": [
        "``Selection Mechanisms`` plays a crucial role in determining which solutions will be passed on to the next generation for our evolutionary algorithm. In this context, it is responsible for choosing which team assignments should undergo further modification to evolve to better solutions. The best solutiond will be more likely to be retained and refined, while less optimal solutions are less likely to survive."
      ]
    },
    {
      "cell_type": "markdown",
      "id": "7fba53be",
      "metadata": {},
      "source": [
        "##### `Ranking Selection`"
      ]
    },
    {
      "cell_type": "markdown",
      "id": "22c0c736",
      "metadata": {
        "id": "22c0c736"
      },
      "source": [
        "The solutions with better fitness (lower fitness scores in a minimization problem) should be selected more frequently, as their ranks will be higher."
      ]
    },
    {
      "cell_type": "code",
      "execution_count": 70,
      "id": "630bd312",
      "metadata": {
        "id": "630bd312"
      },
      "outputs": [],
      "source": [
        "def ranking_selection(population: list, maximization: bool = False):\n",
        "    \"\"\"Ranking selection with fitness-based sorting and rank-weighted probabilities.\"\"\"\n",
        "\n",
        "    # Sort individuals based on fitness\n",
        "    sorted_population = sorted(population, key=lambda ind: ind.fitness(), reverse=maximization)\n",
        "\n",
        "    # Assign ranks: rank 1 = best, rank N = worst\n",
        "    ranks = list(range(len(sorted_population), 0, -1))  # Higher rank = higher selection chance\n",
        "\n",
        "    # Convert ranks to probabilities\n",
        "    total_rank = sum(ranks)\n",
        "    probabilities = [rank / total_rank for rank in ranks]\n",
        "\n",
        "    # Roulette-wheel selection\n",
        "    random_nr = random.uniform(0, 1)\n",
        "    cumulative_prob = 0\n",
        "\n",
        "    for idx, prob in enumerate(probabilities):\n",
        "        cumulative_prob += prob\n",
        "        if random_nr <= cumulative_prob:\n",
        "            return deepcopy(sorted_population[idx])"
      ]
    },
    {
      "cell_type": "markdown",
      "id": "1e18a61a",
      "metadata": {},
      "source": [
        "##### `Tournament Selection`"
      ]
    },
    {
      "cell_type": "markdown",
      "id": "77321554",
      "metadata": {
        "id": "77321554"
      },
      "source": [
        "Since the individuals are randomly chosen, the frequency distribution will depend on the tournament size and randomness of the selections."
      ]
    },
    {
      "cell_type": "code",
      "execution_count": 71,
      "id": "9892e2a8",
      "metadata": {
        "id": "9892e2a8"
      },
      "outputs": [],
      "source": [
        "def tournament_selection(population: list, tournament_size: int = 3, maximization: bool = False):\n",
        "    \"\"\"Tournament Selection (Always select the best individual)\"\"\"\n",
        "\n",
        "    # Randomly select a subset of individuals (tournament size)\n",
        "    tournament_individuals = random.sample(population, tournament_size)\n",
        "\n",
        "    # Sort the tournament individuals by fitness\n",
        "    # For maximization: best individual has highest fitness\n",
        "    # For minimization: best individual has lowest fitness\n",
        "    if maximization:\n",
        "        best_individual = max(tournament_individuals, key=lambda ind: ind.fitness())  # Select best for maximization\n",
        "    else:\n",
        "        best_individual = min(tournament_individuals, key=lambda ind: ind.fitness())  # Select best for minimization\n",
        "\n",
        "    return deepcopy(best_individual)  # Return the best individual from the tournament"
      ]
    },
    {
      "cell_type": "markdown",
      "id": "6c1b2ee2",
      "metadata": {},
      "source": [
        "##### `Selection Results`"
      ]
    },
    {
      "cell_type": "code",
      "execution_count": 72,
      "id": "b2c3e009",
      "metadata": {
        "colab": {
          "base_uri": "https://localhost:8080/"
        },
        "id": "b2c3e009",
        "outputId": "0df63214-81ef-4d95-d34a-b76e8bf5dcef"
      },
      "outputs": [
        {
          "name": "stdout",
          "output_type": "stream",
          "text": [
            "Solution 1 - Fitness: 0.9098104758908946\n",
            "Solution 2 - Fitness: 0.9363411204670825\n",
            "Solution 3 - Fitness: 0.8778452283278396\n",
            "Solution 4 - Fitness: 0.9231711097944874\n",
            "Solution 5 - Fitness: 1.133533395707275\n",
            "Solution 6 - Fitness: 0.8050858744917332\n",
            "Solution 7 - Fitness: 0.7137140569598166\n",
            "Solution 8 - Fitness: 0.8778452283278417\n",
            "Solution 9 - Fitness: 1.3862296537952243\n",
            "Solution 10 - Fitness: 0.7417574277569812\n",
            "\n",
            "Ranking Selection Frequency (100 Selections):\n",
            "Fitness 0.7417574277569812: Selected 18 times\n",
            "Fitness 0.7137140569598166: Selected 19 times\n",
            "Fitness 0.8778452283278396: Selected 18 times\n",
            "Fitness 0.9231711097944874: Selected 4 times\n",
            "Fitness 0.9098104758908946: Selected 6 times\n",
            "Fitness 0.8050858744917332: Selected 15 times\n",
            "Fitness 0.8778452283278417: Selected 14 times\n",
            "Fitness 0.9363411204670825: Selected 3 times\n",
            "Fitness 1.3862296537952243: Selected 1 times\n",
            "Fitness 1.133533395707275: Selected 2 times\n",
            "\n",
            "Tournament Selection Frequency (100 Selections):\n",
            "Fitness 0.8050858744917332: Selected 13 times\n",
            "Fitness 0.7417574277569812: Selected 24 times\n",
            "Fitness 0.7137140569598166: Selected 34 times\n",
            "Fitness 0.8778452283278396: Selected 14 times\n",
            "Fitness 0.9231711097944874: Selected 4 times\n",
            "Fitness 0.8778452283278417: Selected 6 times\n",
            "Fitness 0.9098104758908946: Selected 5 times\n"
          ]
        }
      ],
      "source": [
        "def test_selection():\n",
        "    # Create a small population of TeamAssignmentSolution instances\n",
        "    population = [TeamAssignmentSolution(players) for _ in range(10)]\n",
        "\n",
        "    # Ensure that each individual has been initialized properly\n",
        "    for i, sol in enumerate(population):\n",
        "        sol.random_initial_representation()\n",
        "        print(f\"Solution {i+1} - Fitness: {sol.fitness()}\")\n",
        "\n",
        "    # Run the selection process multiple times (e.g., 100 times) for both methods\n",
        "    ranking_selected_solutions = [ranking_selection(population) for _ in range(100)]\n",
        "    tournament_selected_solutions = [tournament_selection(population) for _ in range(100)]\n",
        "\n",
        "    # Count how many times each fitness was selected\n",
        "    ranking_fitness_counter = Counter([sol.fitness() for sol in ranking_selected_solutions])\n",
        "    tournament_fitness_counter = Counter([sol.fitness() for sol in tournament_selected_solutions])\n",
        "\n",
        "    # Print the selection frequency for both methods\n",
        "    print(\"\\nRanking Selection Frequency (100 Selections):\")\n",
        "    for fitness, count in ranking_fitness_counter.items():\n",
        "        print(f\"Fitness {fitness}: Selected {count} times\")\n",
        "\n",
        "    print(\"\\nTournament Selection Frequency (100 Selections):\")\n",
        "    for fitness, count in tournament_fitness_counter.items():\n",
        "        print(f\"Fitness {fitness}: Selected {count} times\")\n",
        "\n",
        "# Run the test\n",
        "test_selection()"
      ]
    },
    {
      "cell_type": "markdown",
      "id": "e7eaaf1e",
      "metadata": {},
      "source": [
        "# Crossover Operators"
      ]
    },
    {
      "cell_type": "markdown",
      "id": "2aaec0e1",
      "metadata": {},
      "source": [
        "``Crossover operators`` are very important as they are used to combine parts of two or more \"parent\" solutions to produce \"offspring\" solutions, with the goal of exploring the search space more efficiently and generating better solutions.\n",
        "They mimic the biological process of genetic recombination, where in nature, there is mixing of genetic material of organisms, allowing children to inherit possibly useful traits from both their parents allowing for the exploration of new areas in the solution space."
      ]
    },
    {
      "cell_type": "code",
      "execution_count": 97,
      "id": "3ceb5ade",
      "metadata": {},
      "outputs": [],
      "source": [
        "def calculate_average_skill_rating(team):\n",
        "    \"\"\"Calculate the average skill rating for a single team.\"\"\"\n",
        "    total_skill = 0\n",
        "    total_players = 0\n",
        "\n",
        "    for position in POSITION_REQUIREMENTS:\n",
        "        for player in team[position]:\n",
        "            total_skill += player[2]  # Add player skill (index 2 in the tuple)\n",
        "            total_players += 1  # Count player\n",
        "\n",
        "    avg_skill_rating = total_skill / total_players if total_players > 0 else 0\n",
        "    return avg_skill_rating  # Return the average skill of all players in the team"
      ]
    },
    {
      "cell_type": "markdown",
      "id": "0c06f92b",
      "metadata": {},
      "source": [
        "##### `Best Performance Crossover`"
      ]
    },
    {
      "cell_type": "markdown",
      "id": "3535faa0",
      "metadata": {},
      "source": [
        "Creates a new team by selecting the most efficient players (Performance/Rating)\n",
        "    from two parent teams, while ensuring constraints are met."
      ]
    },
    {
      "cell_type": "code",
      "execution_count": 114,
      "id": "ef7f9784",
      "metadata": {},
      "outputs": [],
      "source": [
        "def best_performance_crossover(team1, team2, all_players):\n",
        "    \"\"\"Best Performance Crossover between two parent teams to create an offspring\"\"\"\n",
        "\n",
        "    # Combine players from both parent teams and remove duplicates by player name\n",
        "    combined_players = {p[0]: p for pos in POSITION_REQUIREMENTS for p in team1[pos] + team2[pos]}\n",
        "    candidate_players = list(combined_players.values())\n",
        "\n",
        "    # Sort players by efficiency = Performance / Rating (cost/skill)\n",
        "    candidate_players.sort(key=lambda p: p[3] / p[2], reverse=True)\n",
        "\n",
        "    new_team = defaultdict(list)\n",
        "    new_team[\"total_cost\"] = 0\n",
        "\n",
        "    # Try to fill the team with best performers\n",
        "    for player in candidate_players:\n",
        "        pos = player[1]\n",
        "        cost = player[3]\n",
        "        if len(new_team[pos]) < POSITION_REQUIREMENTS[pos] and new_team[\"total_cost\"] + cost <= MAX_BUDGET:\n",
        "            new_team[pos].append(player)\n",
        "            new_team[\"total_cost\"] += cost\n",
        "\n",
        "    # Fill missing slots using all_players if some positions are still not filled\n",
        "    used_names = {p[0] for pos in POSITION_REQUIREMENTS for p in new_team[pos]}\n",
        "    for pos in POSITION_REQUIREMENTS:\n",
        "        if len(new_team[pos]) < POSITION_REQUIREMENTS[pos]:\n",
        "            available = [p for p in all_players if p[1] == pos and p[0] not in used_names]\n",
        "            # Sort available players by efficiency\n",
        "            available.sort(key=lambda p: p[3] / p[2], reverse=True)\n",
        "            for p in available:\n",
        "                if new_team[\"total_cost\"] + p[3] <= MAX_BUDGET:\n",
        "                    new_team[pos].append(p)\n",
        "                    new_team[\"total_cost\"] += p[3]\n",
        "                    used_names.add(p[0])\n",
        "                if len(new_team[pos]) == POSITION_REQUIREMENTS[pos]:\n",
        "                    break\n",
        "\n",
        "    # Final validation: Check if all positions have the required number of players\n",
        "    valid = all(len(new_team[pos]) == POSITION_REQUIREMENTS[pos] for pos in POSITION_REQUIREMENTS)\n",
        "    return new_team if valid else None"
      ]
    },
    {
      "cell_type": "code",
      "execution_count": 116,
      "id": "f818e1f3",
      "metadata": {},
      "outputs": [
        {
          "name": "stdout",
          "output_type": "stream",
          "text": [
            "Parent 1 Team:\n",
            "GK: ['Blake Henderson']\n",
            "DEF: ['Mason Reed', 'Brayden Hughes']\n",
            "MID: ['Bentley Rivera', 'Hunter Cooper']\n",
            "FWD: ['Julian Scott', 'Landon Powell']\n",
            "Total cost: 695\n",
            "Parent 1 Average Skill Rating: 86.85714285714286\n",
            "\n",
            "Parent 2 Team:\n",
            "GK: ['Blake Henderson']\n",
            "DEF: ['Logan Brooks', 'Maxwell Flores']\n",
            "MID: ['Spencer Ward', 'Connor Hayes']\n",
            "FWD: ['Sebastian Perry', 'Chase Murphy']\n",
            "Total cost: 697\n",
            "Parent 2 Average Skill Rating: 86.85714285714286\n",
            "Failed to generate a valid team.\n"
          ]
        }
      ],
      "source": [
        "def test_bp_crossover():\n",
        "    # Create parent teams\n",
        "    parent1 = TeamAssignmentSolution(players)\n",
        "    parent1.random_initial_representation()  # Initialize with random representation\n",
        "\n",
        "    parent2 = TeamAssignmentSolution(players)\n",
        "    parent2.random_initial_representation()  # Initialize with random representation\n",
        "\n",
        "    # Select random teams from each parent\n",
        "    team_a = parent1.population[random.choice(list(parent1.population.keys()))]\n",
        "    team_b = parent2.population[random.choice(list(parent2.population.keys()))]\n",
        "\n",
        "    # Print original teams and their average skill ratings\n",
        "    print(\"Parent 1 Team:\")\n",
        "    for pos in POSITION_REQUIREMENTS:\n",
        "        print(f\"{pos}: {[p[0] for p in team_a[pos]]}\")\n",
        "    print(\"Total cost:\", team_a[\"total_cost\"])\n",
        "    print(\"Parent 1 Average Skill Rating:\", calculate_average_skill_rating(team_a))  # Average skill rating of Parent 1\n",
        "\n",
        "    print(\"\\nParent 2 Team:\")\n",
        "    for pos in POSITION_REQUIREMENTS:\n",
        "        print(f\"{pos}: {[p[0] for p in team_b[pos]]}\")\n",
        "    print(\"Total cost:\", team_b[\"total_cost\"])\n",
        "    print(\"Parent 2 Average Skill Rating:\", calculate_average_skill_rating(team_b))  # Average skill rating of Parent 2\n",
        "\n",
        "    # Perform best performance crossover\n",
        "    new_team = best_performance_crossover(team_a, team_b, players)\n",
        "    \n",
        "    if new_team:\n",
        "        print(\"\\nNew Team Successfully Generated with Best-Performance Crossover:\")\n",
        "        # Print the new team and its average skill rating\n",
        "        for pos in POSITION_REQUIREMENTS:\n",
        "            print(f\"{pos}: {[p[0] for p in new_team[pos]]}\")\n",
        "        print(\"Total cost:\", new_team[\"total_cost\"])\n",
        "\n",
        "        # Calculate average skill rating of the new team\n",
        "        print(\"New Team Average Skill Rating:\", calculate_average_skill_rating(new_team))  # Average skill rating of new team\n",
        "    else:\n",
        "        print(\"Failed to generate a valid team.\")\n",
        "\n",
        "# Run the test\n",
        "test_bp_crossover()"
      ]
    },
    {
      "cell_type": "markdown",
      "id": "329a0f19",
      "metadata": {},
      "source": [
        "##### `Random Team Mix Crossover`"
      ]
    },
    {
      "cell_type": "markdown",
      "id": "f8587be4",
      "metadata": {},
      "source": [
        "Creates a new team by randomly mixing players from two parent teams, ensuring all constraints (positions, budget, and total players) are met."
      ]
    },
    {
      "cell_type": "code",
      "execution_count": 120,
      "id": "dab968e6",
      "metadata": {},
      "outputs": [],
      "source": [
        "def team_mix_crossover(team1, team2):\n",
        "    \"\"\"Random team mix crossover between two parent teams.\"\"\"\n",
        "    \n",
        "    # Collect all players from both teams, avoiding duplicates by player name\n",
        "    combined_players = {p[0]: p for pos in POSITION_REQUIREMENTS for p in team1[pos] + team2[pos]}\n",
        "    player_pool = list(combined_players.values())\n",
        "    \n",
        "    # Shuffle the combined player pool for random selection\n",
        "    random.shuffle(player_pool)\n",
        "\n",
        "    # Initialize the new team\n",
        "    new_team = defaultdict(list)\n",
        "    new_team[\"total_cost\"] = 0\n",
        "\n",
        "    for player in player_pool:\n",
        "        name, pos, rating, cost = player\n",
        "        \n",
        "        # Ensure that we don't exceed the position requirements or the budget\n",
        "        if len(new_team[pos]) < POSITION_REQUIREMENTS[pos] and new_team[\"total_cost\"] + cost <= MAX_BUDGET:\n",
        "            new_team[pos].append(player)\n",
        "            new_team[\"total_cost\"] += cost\n",
        "\n",
        "        # Stop early if the team is complete (when all positions are filled)\n",
        "        total_players = sum(len(new_team[p]) for p in POSITION_REQUIREMENTS)\n",
        "        if total_players == PLAYERS_PER_TEAM:\n",
        "            break\n",
        "\n",
        "    # Final validation: check if the team is complete and valid\n",
        "    valid = all(len(new_team[pos]) == POSITION_REQUIREMENTS[pos] for pos in POSITION_REQUIREMENTS)\n",
        "    if valid:\n",
        "        return new_team\n",
        "    else:\n",
        "        return print(\"Invalid Team Composition.\")"
      ]
    },
    {
      "cell_type": "code",
      "execution_count": 126,
      "id": "aabb9baf",
      "metadata": {},
      "outputs": [
        {
          "name": "stdout",
          "output_type": "stream",
          "text": [
            "Parent 1 Team:\n",
            "GK: ['Jordan Smith']\n",
            "DEF: ['Owen Parker', 'Mason Reed']\n",
            "MID: ['Ashton Phillips', 'Austin Torres']\n",
            "FWD: ['Zachary Nelson', 'Sebastian Perry']\n",
            "Total cost: 707\n",
            "Parent 1 Average Skill Rating: 87.28571428571429\n",
            "\n",
            "Parent 2 Team:\n",
            "GK: ['Blake Henderson']\n",
            "DEF: ['Mason Reed', 'Maxwell Flores']\n",
            "MID: ['Dylan Morgan', 'Austin Torres']\n",
            "FWD: ['Landon Powell', 'Zachary Nelson']\n",
            "Total cost: 639\n",
            "Parent 2 Average Skill Rating: 85.42857142857143\n",
            "\n",
            "New Team Created via Team Mix Crossover:\n",
            "GK: ['Jordan Smith']\n",
            "DEF: ['Maxwell Flores', 'Mason Reed']\n",
            "MID: ['Dylan Morgan', 'Ashton Phillips']\n",
            "FWD: ['Sebastian Perry', 'Landon Powell']\n",
            "Total cost: 732\n",
            "New Team Average Skill Rating: 88.0\n"
          ]
        }
      ],
      "source": [
        "def test_team_mix_crossover():\n",
        "    \"\"\"\n",
        "    Test the team mix crossover by randomly selecting teams from two parent solutions\n",
        "    and performing the crossover to generate a new team.\n",
        "    \"\"\"\n",
        "    # Create parent teams\n",
        "    parent1 = TeamAssignmentSolution(players)\n",
        "    parent1.random_initial_representation()  # Initialize with random representation\n",
        "\n",
        "    parent2 = TeamAssignmentSolution(players)\n",
        "    parent2.random_initial_representation()  # Initialize with random representation\n",
        "\n",
        "    # Select random teams from each parent's population\n",
        "    team_a = parent1.population[random.choice(list(parent1.population.keys()))]\n",
        "    team_b = parent2.population[random.choice(list(parent2.population.keys()))]\n",
        "\n",
        "    # Print original teams and their average skill ratings\n",
        "    print(\"Parent 1 Team:\")\n",
        "    for pos in POSITION_REQUIREMENTS:\n",
        "        print(f\"{pos}: {[p[0] for p in team_a[pos]]}\")\n",
        "    print(\"Total cost:\", team_a[\"total_cost\"])\n",
        "    print(\"Parent 1 Average Skill Rating:\", calculate_average_skill_rating(team_a))  # Average skill rating of Parent 1\n",
        "\n",
        "    print(\"\\nParent 2 Team:\")\n",
        "    for pos in POSITION_REQUIREMENTS:\n",
        "        print(f\"{pos}: {[p[0] for p in team_b[pos]]}\")\n",
        "    print(\"Total cost:\", team_b[\"total_cost\"])\n",
        "    print(\"Parent 2 Average Skill Rating:\", calculate_average_skill_rating(team_b))  # Average skill rating of Parent 2\n",
        "\n",
        "    # Perform team mix crossover\n",
        "    new_team = team_mix_crossover(team_a, team_b)\n",
        "\n",
        "    # Display the result of the crossover\n",
        "    if new_team:\n",
        "        print(\"\\nNew Team Created via Team Mix Crossover:\")\n",
        "        for pos in POSITION_REQUIREMENTS:\n",
        "            print(f\"{pos}: {[p[0] for p in new_team[pos]]}\")\n",
        "        print(\"Total cost:\", new_team[\"total_cost\"])\n",
        "        print(\"New Team Average Skill Rating:\", calculate_average_skill_rating(new_team))  # Average skill rating of new team\n",
        "    else:\n",
        "        print(\"Crossover failed to produce a valid team.\")\n",
        "\n",
        "# Run the test\n",
        "test_team_mix_crossover()\n"
      ]
    },
    {
      "cell_type": "markdown",
      "id": "517fbf95",
      "metadata": {
        "id": "517fbf95"
      },
      "source": [
        "# Mutation Operators"
      ]
    },
    {
      "cell_type": "markdown",
      "id": "c0f91671",
      "metadata": {},
      "source": [
        "``Mutation operators`` are a key component in evolutionary algorithms because they allow us to introduce random changes into a solution to maintain genetic diversity in the population and help the algorithm explore new solutions. Mutation mimics natural genetic mutation, which introduces variability and allows for the possibility of exploring new regions of the solution space that might not be reached otherwise.\n",
        "\n",
        "For our approach, we will consider:\n",
        "- Position swap mutation between teams (permutation-based)\n",
        "- Skill Balance Mutation (perturbation + swap)\n",
        "- Multi Position, Multi Player Swap (permutation-based)\n",
        "- Budgetting Mutation (perturbation with replacement mutation + swap)"
      ]
    },
    {
      "cell_type": "markdown",
      "id": "5d3760ae",
      "metadata": {},
      "source": [
        "`Mutation Rate`\n",
        "\n",
        "The mutation rate refers to the probability that a mutation will occur. If the mutation rate is too high, the algorithm may become too random and lose its ability to exploit existing good solutions. If it’s too low, the algorithm may lack the necessary diversity to escape local optima. For our approach we decided to go with a X% rate."
      ]
    },
    {
      "cell_type": "markdown",
      "id": "4e6c05be",
      "metadata": {},
      "source": [
        "##### `Swap Same Position Between Teams`"
      ]
    },
    {
      "cell_type": "markdown",
      "id": "e38c4701",
      "metadata": {
        "id": "e38c4701"
      },
      "source": [
        "This function performs a verbose mutation by swapping one player of the same position between two randomly chosen teams. This simple operator will introduce diversity while guaranteeing role preservation which is a requirement for the solution. We beliebe this will effectively help improve the overall solution without radically altering the population. We are printing both teams’ lineups before and after the swap for clarity."
      ]
    },
    {
      "cell_type": "code",
      "execution_count": 137,
      "id": "cfce555e",
      "metadata": {
        "colab": {
          "base_uri": "https://localhost:8080/"
        },
        "id": "cfce555e",
        "outputId": "f2caebde-abf0-4583-fd2b-5b9c6d088b2e"
      },
      "outputs": [
        {
          "name": "stdout",
          "output_type": "stream",
          "text": [
            "Swapping Player: Sebastian Perry (Cost: 150) <-> Zachary Nelson (Cost: 92)\n",
            "\n",
            "Before Mutation:\n",
            "Team 3 FWD: ['Sebastian Perry', 'Adrian Collins'] (Total Cost: 705, Avg Skill: 87.00)\n",
            "Team 4 FWD: ['Zachary Nelson', 'Chase Murphy'] (Total Cost: 622, Avg Skill: 85.00)\n",
            "\n",
            "After Mutation:\n",
            "Team 3 FWD: ['Zachary Nelson', 'Adrian Collins'] (Total Cost: 647, Avg Skill: 85.71)\n",
            "Team 4 FWD: ['Sebastian Perry', 'Chase Murphy'] (Total Cost: 680, Avg Skill: 86.29)\n",
            "Swap successful between Team 3 and Team 4 at position FWD.\n"
          ]
        }
      ],
      "source": [
        "def mutate_swap_same_position(solution: TeamAssignmentSolution):\n",
        "    team_ids = list(solution.population.keys())\n",
        "    t1, t2 = random.sample(team_ids, 2)\n",
        "    pos = random.choice([\"GK\", \"DEF\", \"MID\", \"FWD\"])\n",
        "\n",
        "    if not solution.population[t1][pos] or not solution.population[t2][pos]:\n",
        "        print(f\"No mutation occurred — one of the teams had no players in position: {pos}\")\n",
        "        return\n",
        "\n",
        "    # Select random players from each team in the specified position\n",
        "    p1_idx = random.randint(0, len(solution.population[t1][pos]) - 1)\n",
        "    p2_idx = random.randint(0, len(solution.population[t2][pos]) - 1)\n",
        "\n",
        "    # Player details (name, position, skill, cost)\n",
        "    p1 = solution.population[t1][pos][p1_idx]\n",
        "    p2 = solution.population[t2][pos][p2_idx]\n",
        "\n",
        "    # Current team costs before swap\n",
        "    current_cost_t1 = solution.population[t1][\"total_cost\"]\n",
        "    current_cost_t2 = solution.population[t2][\"total_cost\"]\n",
        "\n",
        "    # Calculate average skill ratings before swap\n",
        "    avg_skill_t1_before = calculate_average_skill_rating(solution.population[t1])\n",
        "    avg_skill_t2_before = calculate_average_skill_rating(solution.population[t2])\n",
        "\n",
        "    # Print the players being swapped for debug purposes\n",
        "    print(f\"Swapping Player: {p1[0]} (Cost: {p1[3]}) <-> {p2[0]} (Cost: {p2[3]})\")\n",
        "\n",
        "    # Print the team details before mutation (with costs and average skill)\n",
        "    print(f\"\\nBefore Mutation:\")\n",
        "    print(f\"Team {t1} {pos}: {[p[0] for p in solution.population[t1][pos]]} (Total Cost: {current_cost_t1}, Avg Skill: {avg_skill_t1_before:.2f})\")\n",
        "    print(f\"Team {t2} {pos}: {[p[0] for p in solution.population[t2][pos]]} (Total Cost: {current_cost_t2}, Avg Skill: {avg_skill_t2_before:.2f})\")\n",
        "\n",
        "    # Swap the players: swap their entire record (name, position, skill, cost)\n",
        "    solution.population[t1][pos][p1_idx], solution.population[t2][pos][p2_idx] = \\\n",
        "        solution.population[t2][pos][p2_idx], solution.population[t1][pos][p1_idx]\n",
        "\n",
        "    # Updated team costs after swap\n",
        "    new_cost_t1 = current_cost_t1 - p1[3] + p2[3]  # Subtract the cost of p1 and add the cost of p2\n",
        "    new_cost_t2 = current_cost_t2 - p2[3] + p1[3]  # Subtract the cost of p2 and add the cost of p1\n",
        "\n",
        "    # Check if the swap respects the budget constraint\n",
        "    if new_cost_t1 > MAX_BUDGET or new_cost_t2 > MAX_BUDGET:\n",
        "        # Revert the swap if it exceeds the budget constraint\n",
        "        solution.population[t1][pos][p1_idx], solution.population[t2][pos][p2_idx] = \\\n",
        "            solution.population[t2][pos][p2_idx], solution.population[t1][pos][p1_idx]\n",
        "        print(f\"Mutation failed: Swap would exceed the budget for one of the teams.\")\n",
        "        return\n",
        "\n",
        "    # Calculate average skill ratings after swap\n",
        "    avg_skill_t1_after = calculate_average_skill_rating(solution.population[t1])\n",
        "    avg_skill_t2_after = calculate_average_skill_rating(solution.population[t2])\n",
        "\n",
        "    # After mutation (print after mutation state):\n",
        "    print(f\"\\nAfter Mutation:\")\n",
        "    print(f\"Team {t1} {pos}: {[p[0] for p in solution.population[t1][pos]]} (Total Cost: {new_cost_t1}, Avg Skill: {avg_skill_t1_after:.2f})\")\n",
        "    print(f\"Team {t2} {pos}: {[p[0] for p in solution.population[t2][pos]]} (Total Cost: {new_cost_t2}, Avg Skill: {avg_skill_t2_after:.2f})\")\n",
        "\n",
        "    # Success message (if no errors in swap)\n",
        "    print(f\"Swap successful between Team {t1} and Team {t2} at position {pos.upper()}.\")\n",
        "\n",
        "# Run the test:\n",
        "mutate_swap_same_position(solution)\n"
      ]
    },
    {
      "cell_type": "markdown",
      "id": "1a755705",
      "metadata": {},
      "source": [
        "## ❗ checked até aqui"
      ]
    },
    {
      "cell_type": "markdown",
      "id": "9c16f116",
      "metadata": {},
      "source": [
        "##### `Skill Balance Mutation`"
      ]
    },
    {
      "cell_type": "markdown",
      "id": "2e147590",
      "metadata": {},
      "source": [
        "Aims to balance the total skill ratings between teams. The team with the skill rating's lower standard deviation, where players are roughly within the same skill level, will swap a player (randomly) with the team with the highest standard deviation on skill rating, lowering the disparity between teams. This ensures that teams are balanced, penalizing cases where skill disparity is negatively affecting the fitness function."
      ]
    },
    {
      "cell_type": "code",
      "execution_count": 44,
      "id": "ab594841",
      "metadata": {},
      "outputs": [
        {
          "name": "stdout",
          "output_type": "stream",
          "text": [
            "\n",
            "Fitness before mutation: 1.0077252622027684\n",
            "\n",
            "Skill variances before mutation:\n",
            "Team 0: Skill Variance = 10.69\n",
            "Team 1: Skill Variance = 9.92\n",
            "Team 2: Skill Variance = 22.78\n",
            "Team 3: Skill Variance = 15.92\n",
            "Team 4: Skill Variance = 17.10\n",
            "\n",
            "Swapped players between Team 2 and Team 1 at position FWD\n",
            "Player Sebastian Perry (Skill: 95) swapped with Player Tyler Jenkins (Skill: 80)\n",
            "\n",
            "Skill variances after mutation:\n",
            "Team 2: Skill Variance = 12.98\n",
            "Team 1: Skill Variance = 17.27\n",
            "\n",
            "Fitness after mutation: 1.2269091744905103\n"
          ]
        }
      ],
      "source": [
        "def skill_balance_mutation(solution: TeamAssignmentSolution):\n",
        "    \"\"\"\n",
        "    This mutation operator aims to balance the skill variance between teams.\n",
        "    If one team has significantly higher skill variance than others, it swaps players between\n",
        "    teams to balance the skill distribution, taking into account not only the average skill\n",
        "    but also the variance of skill ratings across teams.\n",
        "    \"\"\"\n",
        "\n",
        "    # Print the fitness before mutation\n",
        "    fitness_before = solution.fitness()\n",
        "    print(f\"\\nFitness before mutation: {fitness_before}\")\n",
        "\n",
        "    # Step 1: Calculate skill variance (standard deviation) for each team\n",
        "    team_variances = {}\n",
        "\n",
        "    for team_id, team in solution.population.items():\n",
        "        skills = []\n",
        "        \n",
        "        # Collect individual player skills from all positions\n",
        "        for pos in [\"GK\", \"DEF\", \"MID\", \"FWD\"]:\n",
        "            for player in team[pos]:\n",
        "                skills.append(player[2])  # player[2] is the skill rating\n",
        "        \n",
        "        # Calculate the variance (standard deviation) of skills for the team\n",
        "        skill_variance = np.var(skills) if len(skills) > 1 else 0\n",
        "        team_variances[team_id] = skill_variance\n",
        "\n",
        "    # Step 2: Identify teams with the highest and lowest skill variance\n",
        "    high_variance_team = max(team_variances, key=team_variances.get)  # Team with highest variance\n",
        "    low_variance_team = min(team_variances, key=team_variances.get)   # Team with lowest variance\n",
        "\n",
        "    # Print out the skill variance for each team\n",
        "    print(f\"\\nSkill variances before mutation:\")\n",
        "    for team_id in solution.population.keys():\n",
        "        print(f\"Team {team_id}: Skill Variance = {team_variances[team_id]:.2f}\")\n",
        "\n",
        "    # Step 3: Swap players between the high and low variance teams\n",
        "    pos = random.choice([\"GK\", \"DEF\", \"MID\", \"FWD\"])\n",
        "\n",
        "    # Ensure that both teams have players in the selected position\n",
        "    if len(solution.population[high_variance_team][pos]) > 0 and len(solution.population[low_variance_team][pos]) > 0:\n",
        "        player_from_high_variance = random.choice(solution.population[high_variance_team][pos])\n",
        "        player_from_low_variance = random.choice(solution.population[low_variance_team][pos])\n",
        "\n",
        "        # Swap the players between the teams\n",
        "        solution.population[high_variance_team][pos].remove(player_from_high_variance)\n",
        "        solution.population[low_variance_team][pos].remove(player_from_low_variance)\n",
        "\n",
        "        solution.population[high_variance_team][pos].append(player_from_low_variance)\n",
        "        solution.population[low_variance_team][pos].append(player_from_high_variance)\n",
        "\n",
        "        print(f\"\\nSwapped players between Team {high_variance_team} and Team {low_variance_team} at position {pos.upper()}\")\n",
        "        print(f\"Player {player_from_high_variance[0]} (Skill: {player_from_high_variance[2]}) swapped with \"\n",
        "              f\"Player {player_from_low_variance[0]} (Skill: {player_from_low_variance[2]})\")\n",
        "    else:\n",
        "        print(\"No mutation occurred — one of the teams had no players in the selected position.\")\n",
        "\n",
        "    # Step 4: Calculate and print the skill variances of the swapped teams after mutation\n",
        "    team_variances_after = {}\n",
        "\n",
        "    for team_id, team in solution.population.items():\n",
        "        skills = []\n",
        "        \n",
        "        # Collect individual player skills from all positions\n",
        "        for pos in [\"GK\", \"DEF\", \"MID\", \"FWD\"]:\n",
        "            for player in team[pos]:\n",
        "                skills.append(player[2])  # player[2] is the skill rating\n",
        "        \n",
        "        # Calculate the variance (standard deviation) of skills for the team\n",
        "        skill_variance = np.var(skills) if len(skills) > 1 else 0\n",
        "        team_variances_after[team_id] = skill_variance\n",
        "\n",
        "    # Print out the skill variances of the swapped teams after mutation\n",
        "    print(f\"\\nSkill variances after mutation:\")\n",
        "    print(f\"Team {high_variance_team}: Skill Variance = {team_variances_after[high_variance_team]:.2f}\")\n",
        "    print(f\"Team {low_variance_team}: Skill Variance = {team_variances_after[low_variance_team]:.2f}\")\n",
        "\n",
        "    # Print the fitness after mutation\n",
        "    fitness_after = solution.fitness()\n",
        "    print(f\"\\nFitness after mutation: {fitness_after}\")\n",
        "\n",
        "# Example usage\n",
        "# Assuming 'solution' is an instance of the TeamAssignmentSolution class\n",
        "skill_balance_mutation(solution)\n"
      ]
    },
    {
      "cell_type": "markdown",
      "id": "20542ac3",
      "metadata": {},
      "source": [
        "##### `Multi Position, Multi Player Swap`"
      ]
    },
    {
      "cell_type": "markdown",
      "id": "fbcc66b3",
      "metadata": {
        "id": "fbcc66b3"
      },
      "source": [
        "This function swaps three players from different positions (GK, DEF, MID, FWD) within a team, ensuring that the team structure (1 GK, 2 DEF, 2 MID, 2 FWD) remains valid, and shuffling the players while preserving the overall team balance."
      ]
    },
    {
      "cell_type": "markdown",
      "id": "2f75212b",
      "metadata": {},
      "source": [
        "# ❗❗❗❗❗ WRONG"
      ]
    },
    {
      "cell_type": "code",
      "execution_count": 134,
      "id": "a37e10a8",
      "metadata": {
        "colab": {
          "base_uri": "https://localhost:8080/"
        },
        "id": "a37e10a8",
        "outputId": "edb8e7cb-a9d9-467e-86f8-2fa12c9709c4"
      },
      "outputs": [
        {
          "name": "stdout",
          "output_type": "stream",
          "text": [
            "\n",
            "Before Mutation:\n",
            "Team 4 Cost: 654\n",
            "Team 1 Cost: 610\n",
            "Team 0 Cost: 600\n",
            "Swapped Players: \n",
            "Team 4 GK: Jaxon Griffin → Team 1 GK: Bentley Rivera\n",
            "Team 4 MID: Jaxon Griffin → Team 0 MID: Austin Torres\n",
            "Team 4 FWD: Xavier Bryant → Team 0 FWD: Austin Torres\n",
            "\n",
            "Skill Standard Deviation Before Mutation:\n",
            "Team 4: 4.72\n",
            "Team 1: 3.52\n",
            "Team 0: 3.19\n",
            "\n",
            "Skill Standard Deviation After Mutation:\n",
            "Team 4: 4.72\n",
            "Team 1: 3.52\n",
            "Team 0: 3.19\n",
            "\n",
            "Mutation successful!\n",
            "New cost for Team 4: 664, Team 1: 610, Team 0: 600\n",
            "Skill standard deviations after mutation - Team 4: 4.72\n",
            "Skill standard deviations after mutation - Team 1: 3.52\n",
            "Skill standard deviations after mutation - Team 0: 3.19\n"
          ]
        }
      ],
      "source": [
        "# Function to calculate team cost (total cost of all players in a team)\n",
        "def calculate_team_cost(team):\n",
        "    \"\"\"Calculate the total cost of a team based on the players.\"\"\"\n",
        "    cost = 0\n",
        "    for pos in team.values():\n",
        "        if isinstance(pos, list):  # Ensure we are dealing with a list of players\n",
        "            cost += sum([player[3] for player in pos])  # Assuming player[3] is cost\n",
        "    return cost\n",
        "\n",
        "# Function to calculate skill standard deviation for a team\n",
        "def calculate_team_skill_std_dev(team):\n",
        "    \"\"\"Calculate the skill standard deviation of a team.\"\"\"\n",
        "    skills = []\n",
        "    for pos in team.values():\n",
        "        if isinstance(pos, list):  # Ensure we are dealing with a list of players\n",
        "            skills.extend([player[2] for player in pos])  # Assuming player[2] is skill rating\n",
        "    return np.std(skills) if len(skills) > 1 else 0\n",
        "\n",
        "def mutate_swap_three_players(solution: TeamAssignmentSolution):\n",
        "    \"\"\"This mutation operator swaps three players from the same team with players from other teams\n",
        "    in the same positions while respecting budget and skill standard deviation constraints.\"\"\"\n",
        "    \n",
        "    team_ids = list(solution.population.keys())\n",
        "\n",
        "    # Randomly select one team\n",
        "    t1 = random.choice(team_ids)\n",
        "\n",
        "    # Define positions\n",
        "    positions = [\"GK\", \"DEF\", \"MID\", \"FWD\"]\n",
        "\n",
        "    # Randomly select three distinct positions\n",
        "    pos1, pos2, pos3 = random.sample(positions, 3)\n",
        "\n",
        "    # Ensure that the selected team has players in these positions\n",
        "    if not solution.population[t1][pos1] or not solution.population[t1][pos2] or not solution.population[t1][pos3]:\n",
        "        print(\"No mutation occurred — the selected team does not have players in the selected positions.\")\n",
        "        return\n",
        "\n",
        "    # Select random players from each position of the selected team\n",
        "    player1_idx = random.randint(0, len(solution.population[t1][pos1]) - 1)\n",
        "    player2_idx = random.randint(0, len(solution.population[t1][pos2]) - 1)\n",
        "    player3_idx = random.randint(0, len(solution.population[t1][pos3]) - 1)\n",
        "\n",
        "    player1 = solution.population[t1][pos1][player1_idx]\n",
        "    player2 = solution.population[t1][pos2][player2_idx]\n",
        "    player3 = solution.population[t1][pos3][player3_idx]\n",
        "\n",
        "    # Select players from other teams for the same positions\n",
        "    other_teams = [team for team in team_ids if team != t1]\n",
        "\n",
        "    # Randomly select two other teams (t2 and t3)\n",
        "    t2 = random.choice(other_teams)\n",
        "    t3 = random.choice(other_teams)\n",
        "\n",
        "    # Ensure that the other teams have players in these positions\n",
        "    if not solution.population[t2][pos1] or not solution.population[t2][pos2] or not solution.population[t2][pos3]:\n",
        "        print(f\"Mutation aborted: Team {t2} doesn't have players in the required positions.\")\n",
        "        return\n",
        "    if not solution.population[t3][pos1] or not solution.population[t3][pos2] or not solution.population[t3][pos3]:\n",
        "        print(f\"Mutation aborted: Team {t3} doesn't have players in the required positions.\")\n",
        "        return\n",
        "\n",
        "    # Select players from positions on team t2 and t3\n",
        "    player2_t2_idx = random.randint(0, len(solution.population[t2][pos1]) - 1)\n",
        "    player2_t3_idx = random.randint(0, len(solution.population[t3][pos2]) - 1)\n",
        "\n",
        "    player2_t2 = solution.population[t2][pos1][player2_t2_idx]\n",
        "    player2_t3 = solution.population[t3][pos2][player2_t3_idx]\n",
        "\n",
        "    # Print before mutation\n",
        "    print(f\"\\nBefore Mutation:\")\n",
        "    print(f\"Team {t1} Cost: {calculate_team_cost(solution.population[t1])}\")\n",
        "    print(f\"Team {t2} Cost: {calculate_team_cost(solution.population[t2])}\")\n",
        "    print(f\"Team {t3} Cost: {calculate_team_cost(solution.population[t3])}\")\n",
        "    print(f\"Swapped Players: \")\n",
        "\n",
        "    # Print the players before mutation\n",
        "    print(f\"Team {t1} {pos1}: {player1[0]} → Team {t2} {pos1}: {player2_t2[0]}\")\n",
        "    print(f\"Team {t1} {pos2}: {player2[0]} → Team {t3} {pos2}: {player2_t3[0]}\")\n",
        "    print(f\"Team {t1} {pos3}: {player3[0]} → Team {t3} {pos3}: {player2_t3[0]}\")\n",
        "\n",
        "    # Perform the swap (swapping the players directly between the teams and positions)\n",
        "    solution.population[t1][pos1][player1_idx] = player2_t2\n",
        "    solution.population[t1][pos2][player2_idx] = player2_t3\n",
        "    solution.population[t1][pos3][player3_idx] = player2_t3\n",
        "\n",
        "    # Calculate the costs after mutation\n",
        "    new_team1_cost = calculate_team_cost(solution.population[t1])\n",
        "    new_team2_cost = calculate_team_cost(solution.population[t2])\n",
        "    new_team3_cost = calculate_team_cost(solution.population[t3])\n",
        "\n",
        "    # Revert the mutation if the budget exceeds\n",
        "    if new_team1_cost > MAX_BUDGET or new_team2_cost > MAX_BUDGET or new_team3_cost > MAX_BUDGET:\n",
        "        print(f\"Warning: Budget exceeded. Mutation is reverted.\")\n",
        "        \n",
        "        # Revert back the mutation\n",
        "        solution.population[t1][pos1][player1_idx] = player1\n",
        "        solution.population[t1][pos2][player2_idx] = player2\n",
        "        solution.population[t1][pos3][player3_idx] = player3\n",
        "\n",
        "        return  # Stop further processing if the mutation is invalid\n",
        "\n",
        "    # After the mutation, we need to update the skill standard deviations for all teams\n",
        "    team_std_devs_before = {\n",
        "        t1: calculate_team_skill_std_dev(solution.population[t1]),\n",
        "        t2: calculate_team_skill_std_dev(solution.population[t2]),\n",
        "        t3: calculate_team_skill_std_dev(solution.population[t3])\n",
        "    }\n",
        "\n",
        "    # Print skill standard deviation before mutation\n",
        "    print(f\"\\nSkill Standard Deviation Before Mutation:\")\n",
        "    for team_id, std_dev in team_std_devs_before.items():\n",
        "        print(f\"Team {team_id}: {std_dev:.2f}\")\n",
        "\n",
        "    # Now, calculate the skill standard deviation after the mutation for all involved teams\n",
        "    team_std_devs_after = {\n",
        "        t1: calculate_team_skill_std_dev(solution.population[t1]),\n",
        "        t2: calculate_team_skill_std_dev(solution.population[t2]),\n",
        "        t3: calculate_team_skill_std_dev(solution.population[t3])\n",
        "    }\n",
        "\n",
        "    # Print skill standard deviation after mutation\n",
        "    print(f\"\\nSkill Standard Deviation After Mutation:\")\n",
        "    for team_id, std_dev in team_std_devs_after.items():\n",
        "        print(f\"Team {team_id}: {std_dev:.2f}\")\n",
        "\n",
        "    # Check if the standard deviation change is too drastic\n",
        "    std_dev_threshold = 2.0  # Example threshold for allowable change in standard deviation\n",
        "\n",
        "    mutation_reverted = False\n",
        "    for team_id in [t1, t2, t3]:\n",
        "        if abs(team_std_devs_after[team_id] - team_std_devs_before[team_id]) > std_dev_threshold:\n",
        "            print(f\"Warning: Standard deviation change exceeded threshold for Team {team_id}. Mutation reverted.\")\n",
        "            mutation_reverted = True\n",
        "            break  # Stop further processing if the mutation is invalid\n",
        "\n",
        "    if mutation_reverted:\n",
        "        # Revert the mutation for all teams involved\n",
        "        solution.population[t1][pos1][player1_idx] = player1\n",
        "        solution.population[t1][pos2][player2_idx] = player2\n",
        "        solution.population[t1][pos3][player3_idx] = player3\n",
        "        return\n",
        "\n",
        "    # Print final mutation status\n",
        "    print(\"\\nMutation successful!\")\n",
        "    print(f\"New cost for Team {t1}: {new_team1_cost}, Team {t2}: {new_team2_cost}, Team {t3}: {new_team3_cost}\")\n",
        "    for team_id in [t1, t2, t3]:\n",
        "        print(f\"Skill standard deviations after mutation - Team {team_id}: {team_std_devs_after[team_id]:.2f}\")\n",
        "\n",
        "# Run the mutation function (ensure `solution` is initialized)\n",
        "mutate_swap_three_players(solution)"
      ]
    },
    {
      "cell_type": "markdown",
      "id": "5d78a927",
      "metadata": {},
      "source": [
        "##### `Budgetting Mutation`"
      ]
    },
    {
      "cell_type": "markdown",
      "id": "8870581a",
      "metadata": {},
      "source": [
        "This mutation operator aims to balance the total costs of two teams by swapping players between the same positions, if their teams costs differs more than the specifiec threshold. It will introduce diversity and help prevent situations where one team may be overloaded with expensive players, while another has a lower-cost, less-competitive roster."
      ]
    },
    {
      "cell_type": "code",
      "execution_count": 72,
      "id": "79d716af",
      "metadata": {},
      "outputs": [],
      "source": [
        "COST_BALANCE_THRESHOLD = 50  # Define a threshold for cost difference to trigger mutation"
      ]
    },
    {
      "cell_type": "code",
      "execution_count": 99,
      "id": "dd0b48b4",
      "metadata": {},
      "outputs": [
        {
          "name": "stdout",
          "output_type": "stream",
          "text": [
            "Swapped players between Team 3 and Team 2 at position GK:\n",
            "  Chris Thompson (Cost: 80) <--> Alex Carter (Cost: 90)\n",
            "New cost for Team 3: 635\n",
            "New cost for Team 2: 697\n"
          ]
        }
      ],
      "source": [
        "def mutate_swap_based_on_cost(solution: TeamAssignmentSolution):\n",
        "    \"\"\"This mutation operator swaps players within the same position between two teams to balance their costs.\"\"\"\n",
        "    \n",
        "    team_ids = list(solution.population.keys())\n",
        "    # Select two random teams\n",
        "    t1, t2 = random.sample(team_ids, 2)\n",
        "\n",
        "    # Calculate the total cost of each team\n",
        "    team1_cost = solution.population[t1][\"total_cost\"]\n",
        "    team2_cost = solution.population[t2][\"total_cost\"]\n",
        "\n",
        "    # If the costs are similar, no need to mutate\n",
        "    if abs(team1_cost - team2_cost) < COST_BALANCE_THRESHOLD:\n",
        "        print(f\"Teams {t1} and {t2} already have similar costs. No mutation.\")\n",
        "        return\n",
        "    \n",
        "    # Determine the position to swap\n",
        "    pos = random.choice([\"GK\", \"DEF\", \"MID\", \"FWD\"])\n",
        "\n",
        "    # Check if both teams have players in the selected position\n",
        "    if len(solution.population[t1][pos]) > 0 and len(solution.population[t2][pos]) > 0:\n",
        "        # Select a random player from each team in the chosen position\n",
        "        p1_idx = random.randint(0, len(solution.population[t1][pos]) - 1)\n",
        "        p2_idx = random.randint(0, len(solution.population[t2][pos]) - 1)\n",
        "\n",
        "        player_from_t1 = solution.population[t1][pos][p1_idx]\n",
        "        player_from_t2 = solution.population[t2][pos][p2_idx]\n",
        "\n",
        "        # Print swap details\n",
        "        print(f\"Swapped players between Team {t1} and Team {t2} at position {pos.upper()}:\")\n",
        "        print(f\"  {player_from_t1[0]} (Cost: {player_from_t1[3]}) <--> {player_from_t2[0]} (Cost: {player_from_t2[3]})\")\n",
        "\n",
        "        # Perform the swap\n",
        "        solution.population[t1][pos][p1_idx] = player_from_t2\n",
        "        solution.population[t2][pos][p2_idx] = player_from_t1\n",
        "\n",
        "        # Recalculate team costs after swap\n",
        "        new_team1_cost = solution.population[t1][\"total_cost\"]\n",
        "        new_team2_cost = solution.population[t2][\"total_cost\"]\n",
        "\n",
        "        # Print new cost information\n",
        "        print(f\"New cost for Team {t1}: {new_team1_cost}\")\n",
        "        print(f\"New cost for Team {t2}: {new_team2_cost}\")\n",
        "\n",
        "        # Ensure that neither team exceeds the budget after mutation\n",
        "        if new_team1_cost > MAX_BUDGET or new_team2_cost > MAX_BUDGET:\n",
        "            print(f\"\\nWarning: Team cost exceeds the budget after mutation. Reverting mutation.\")\n",
        "            # Revert the mutation (swap the players back)\n",
        "            solution.population[t1][pos][p1_idx] = player_from_t1\n",
        "            solution.population[t2][pos][p2_idx] = player_from_t2\n",
        "            return  # Invalid mutation if the budget is exceeded\n",
        "\n",
        "    else:\n",
        "        print(\"No mutation occurred — one of the teams had no players in the selected position.\")\n",
        "\n",
        "# Call the function (ensure you have initialized 'solution' before)\n",
        "mutate_swap_based_on_cost(solution)"
      ]
    },
    {
      "cell_type": "markdown",
      "id": "9062382d",
      "metadata": {},
      "source": [
        "# Genetic Algorithm Loop"
      ]
    }
  ],
  "metadata": {
    "colab": {
      "provenance": []
    },
    "kernelspec": {
      "display_name": "DM2425",
      "language": "python",
      "name": "python3"
    },
    "language_info": {
      "codemirror_mode": {
        "name": "ipython",
        "version": 3
      },
      "file_extension": ".py",
      "mimetype": "text/x-python",
      "name": "python",
      "nbconvert_exporter": "python",
      "pygments_lexer": "ipython3",
      "version": "3.8.19"
    }
  },
  "nbformat": 4,
  "nbformat_minor": 5
}

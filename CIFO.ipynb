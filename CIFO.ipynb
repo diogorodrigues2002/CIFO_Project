{
  "cells": [
    {
      "cell_type": "code",
      "execution_count": 1,
      "id": "77ae0f13",
      "metadata": {
        "id": "77ae0f13"
      },
      "outputs": [],
      "source": [
        "import sys\n",
        "sys.path.append('..')\n",
        "import random\n",
        "import numpy as np\n",
        "import pandas as pd\n",
        "from copy import deepcopy\n",
        "from collections import Counter\n",
        "from collections import defaultdict"
      ]
    },
    {
      "cell_type": "markdown",
      "id": "9d428df5",
      "metadata": {
        "id": "9d428df5"
      },
      "source": [
        "# Load the Data"
      ]
    },
    {
      "cell_type": "code",
      "execution_count": 2,
      "id": "aeeda031",
      "metadata": {
        "id": "aeeda031"
      },
      "outputs": [],
      "source": [
        "# Load the data from the Excel file\n",
        "df = pd.read_excel('players.xlsx')\n",
        "\n",
        "# Extract player data\n",
        "players = []\n",
        "for _, row in df.iterrows():\n",
        "    players.append((row['Name'], row['Position'], row['Skill'], row['Salary (â‚¬M)']))"
      ]
    },
    {
      "cell_type": "code",
      "execution_count": 3,
      "id": "c893a92a",
      "metadata": {
        "colab": {
          "base_uri": "https://localhost:8080/"
        },
        "id": "c893a92a",
        "outputId": "10a95ba4-7bff-44d1-9f3f-a9ea74cffb7e"
      },
      "outputs": [
        {
          "output_type": "stream",
          "name": "stdout",
          "text": [
            "         Player Name Position  Rating  Performance\n",
            "0        Alex Carter       GK      85           90\n",
            "1       Jordan Smith       GK      88          100\n",
            "2      Ryan Mitchell       GK      83           85\n",
            "3     Chris Thompson       GK      80           80\n",
            "4    Blake Henderson       GK      87           95\n",
            "5      Daniel Foster      DEF      90          110\n",
            "6      Lucas Bennett      DEF      85           90\n",
            "7        Owen Parker      DEF      88          100\n",
            "8       Ethan Howard      DEF      80           70\n",
            "9         Mason Reed      DEF      82           75\n",
            "10      Logan Brooks      DEF      86           95\n",
            "11      Caleb Fisher      DEF      84           85\n",
            "12     Nathan Wright      MID      92          120\n",
            "13      Connor Hayes      MID      89          105\n",
            "14      Dylan Morgan      MID      91          115\n",
            "15     Hunter Cooper      MID      83           85\n",
            "16     Austin Torres      MID      82           80\n",
            "17  Gavin Richardson      MID      87           95\n",
            "18      Spencer Ward      MID      84           85\n",
            "19   Sebastian Perry      FWD      95          150\n",
            "20     Xavier Bryant      FWD      90          120\n",
            "21    Elijah Sanders      FWD      93          140\n",
            "22    Adrian Collins      FWD      85           90\n",
            "23     Tyler Jenkins      FWD      80           70\n",
            "24      Chase Murphy      FWD      86           95\n",
            "25     Landon Powell      FWD      89          110\n",
            "26      Julian Scott      FWD      92          130\n",
            "27    Bentley Rivera      MID      88          100\n",
            "28    Maxwell Flores      DEF      81           72\n",
            "29      Dominic Bell      MID      86           95\n",
            "30     Jaxon Griffin      DEF      79           65\n",
            "31   Ashton Phillips      MID      90          110\n",
            "32       Colton Gray      FWD      91          125\n",
            "33    Brayden Hughes      DEF      87          100\n",
            "34    Zachary Nelson      FWD      86           92\n"
          ]
        }
      ],
      "source": [
        "df = pd.DataFrame(players, columns=['Player Name', 'Position', 'Rating', 'Performance'])\n",
        "print(df)"
      ]
    },
    {
      "cell_type": "code",
      "execution_count": 4,
      "id": "aba03c84",
      "metadata": {
        "colab": {
          "base_uri": "https://localhost:8080/"
        },
        "id": "aba03c84",
        "outputId": "3d00810c-c84c-4168-f41f-1cd8ba5b224f"
      },
      "outputs": [
        {
          "output_type": "execute_result",
          "data": {
            "text/plain": [
              "[('Alex Carter', 'GK', 85, 90),\n",
              " ('Jordan Smith', 'GK', 88, 100),\n",
              " ('Ryan Mitchell', 'GK', 83, 85),\n",
              " ('Chris Thompson', 'GK', 80, 80),\n",
              " ('Blake Henderson', 'GK', 87, 95),\n",
              " ('Daniel Foster', 'DEF', 90, 110),\n",
              " ('Lucas Bennett', 'DEF', 85, 90),\n",
              " ('Owen Parker', 'DEF', 88, 100),\n",
              " ('Ethan Howard', 'DEF', 80, 70),\n",
              " ('Mason Reed', 'DEF', 82, 75),\n",
              " ('Logan Brooks', 'DEF', 86, 95),\n",
              " ('Caleb Fisher', 'DEF', 84, 85),\n",
              " ('Nathan Wright', 'MID', 92, 120),\n",
              " ('Connor Hayes', 'MID', 89, 105),\n",
              " ('Dylan Morgan', 'MID', 91, 115),\n",
              " ('Hunter Cooper', 'MID', 83, 85),\n",
              " ('Austin Torres', 'MID', 82, 80),\n",
              " ('Gavin Richardson', 'MID', 87, 95),\n",
              " ('Spencer Ward', 'MID', 84, 85),\n",
              " ('Sebastian Perry', 'FWD', 95, 150),\n",
              " ('Xavier Bryant', 'FWD', 90, 120),\n",
              " ('Elijah Sanders', 'FWD', 93, 140),\n",
              " ('Adrian Collins', 'FWD', 85, 90),\n",
              " ('Tyler Jenkins', 'FWD', 80, 70),\n",
              " ('Chase Murphy', 'FWD', 86, 95),\n",
              " ('Landon Powell', 'FWD', 89, 110),\n",
              " ('Julian Scott', 'FWD', 92, 130),\n",
              " ('Bentley Rivera', 'MID', 88, 100),\n",
              " ('Maxwell Flores', 'DEF', 81, 72),\n",
              " ('Dominic Bell', 'MID', 86, 95),\n",
              " ('Jaxon Griffin', 'DEF', 79, 65),\n",
              " ('Ashton Phillips', 'MID', 90, 110),\n",
              " ('Colton Gray', 'FWD', 91, 125),\n",
              " ('Brayden Hughes', 'DEF', 87, 100),\n",
              " ('Zachary Nelson', 'FWD', 86, 92)]"
            ]
          },
          "metadata": {},
          "execution_count": 4
        }
      ],
      "source": [
        "players"
      ]
    },
    {
      "cell_type": "code",
      "execution_count": 5,
      "id": "697b5499",
      "metadata": {
        "id": "697b5499"
      },
      "outputs": [],
      "source": [
        "# Constants\n",
        "NUM_TEAMS = 5\n",
        "PLAYERS_PER_TEAM = 7\n",
        "MAX_BUDGET = 750  # Million €\n",
        "POSITION_REQUIREMENTS = {\"GK\": 1, \"DEF\": 2, \"MID\": 2, \"FWD\": 2}"
      ]
    },
    {
      "cell_type": "code",
      "execution_count": 6,
      "id": "1033421e",
      "metadata": {
        "id": "1033421e"
      },
      "outputs": [],
      "source": [
        "class TeamAssignmentSolution:\n",
        "    def __init__(self, players, population=None):\n",
        "        self.players = players  # List of players that will be assigned to teams\n",
        "        self.population = population if population else {}  # Dictionary with team assignments\n",
        "\n",
        "    def random_initial_representation(self):\n",
        "        \"\"\"Randomly create a valid team assignment representation.\"\"\"\n",
        "        # Initialize empty teams with required position slots and cost trackers\n",
        "        teams = {i: {\"GK\": [], \"DEF\": [], \"MID\": [], \"FWD\": [], \"total_cost\": 0} for i in range(NUM_TEAMS)}\n",
        "\n",
        "        # Shuffle players to randomly assign them to teams\n",
        "        shuffled_players = random.sample(self.players, len(self.players))\n",
        "\n",
        "        for player in shuffled_players:\n",
        "            player_name, position, skill, cost = player\n",
        "            assigned = False\n",
        "            # Try to assign the player to a team while respecting position and budget constraints\n",
        "            for team_id in teams:\n",
        "                if len(teams[team_id][position]) < POSITION_REQUIREMENTS[position] and teams[team_id][\"total_cost\"] + cost <= MAX_BUDGET:\n",
        "                    teams[team_id][position].append(player)\n",
        "                    teams[team_id][\"total_cost\"] += cost\n",
        "                    assigned = True\n",
        "                    break\n",
        "            if not assigned:\n",
        "                continue  # Skip players that can't be assigned under budget or position constraints\n",
        "\n",
        "        # Store the generated team assignment\n",
        "        self.population = teams\n",
        "        return self.population\n",
        "\n",
        "    def fitness(self):\n",
        "        \"\"\"Evaluate the quality of the solution.\"\"\"\n",
        "        team_avg_skills = []\n",
        "\n",
        "        # Iterate over each team in the population\n",
        "        for team in self.population.values():\n",
        "            total_skill = 0\n",
        "            total_players = 0\n",
        "\n",
        "            # Iterate over each position (GK, DEF, MID, FWD)\n",
        "            for position in [\"GK\", \"DEF\", \"MID\", \"FWD\"]:\n",
        "                if len(team[position]) > 0:  # Ensure the position is filled\n",
        "                    for player in team[position]:\n",
        "                        total_skill += player[2]  # Add the skill rating of the player\n",
        "                        total_players += 1  # Count the player\n",
        "\n",
        "            # Calculate the average skill rating for the team\n",
        "            avg_skill = total_skill / total_players if total_players > 0 else 0\n",
        "            team_avg_skills.append(avg_skill)\n",
        "\n",
        "        # Calculate the standard deviation of the average skill ratings across teams\n",
        "        std_dev = np.std(team_avg_skills)\n",
        "        return std_dev\n"
      ]
    },
    {
      "cell_type": "code",
      "execution_count": 7,
      "id": "6938226b",
      "metadata": {
        "colab": {
          "base_uri": "https://localhost:8080/"
        },
        "id": "6938226b",
        "outputId": "1ea793f9-6ac2-4b51-94c8-0fd5ca8cd6ad"
      },
      "outputs": [
        {
          "output_type": "stream",
          "name": "stdout",
          "text": [
            "Fitness Score: 1.3136644494368765\n"
          ]
        }
      ],
      "source": [
        "# Create an instance of the TeamAssignmentSolution class\n",
        "solution = TeamAssignmentSolution(players)\n",
        "solution.random_initial_representation()\n",
        "\n",
        "# Evaluate the fitness of the initial population\n",
        "fitness_score = solution.fitness()\n",
        "print(f\"Fitness Score: {fitness_score}\")"
      ]
    },
    {
      "cell_type": "markdown",
      "id": "eb12241a",
      "metadata": {
        "id": "eb12241a"
      },
      "source": [
        "# Selection Mechanism"
      ]
    },
    {
      "cell_type": "markdown",
      "id": "22c0c736",
      "metadata": {
        "id": "22c0c736"
      },
      "source": [
        "In Ranking Selection, solutions with better fitness (lower fitness in a minimization problem) should be selected more frequently, as their ranks will be higher."
      ]
    },
    {
      "cell_type": "code",
      "execution_count": 8,
      "id": "630bd312",
      "metadata": {
        "id": "630bd312"
      },
      "outputs": [],
      "source": [
        "def ranking_selection(population: list, maximization: bool = False):\n",
        "    \"\"\"Ranking Selection\"\"\"\n",
        "\n",
        "    # Sort the population based on fitness\n",
        "    sorted_population = sorted(population, key=lambda ind: ind.fitness())\n",
        "\n",
        "    # For minimization, rank from best to worst (lower fitness gets a higher rank)\n",
        "    if not maximization:\n",
        "        sorted_population.reverse()  # Reverse the sorting for minimization (lower fitness first)\n",
        "\n",
        "    # Assign ranks to each individual (1 for the best, 2 for second-best, etc.)\n",
        "    ranks = list(range(1, len(population) + 1))\n",
        "\n",
        "    # Calculate selection probabilities based on ranks\n",
        "    total_rank = sum(ranks)\n",
        "    probabilities = [rank / total_rank for rank in ranks]\n",
        "\n",
        "    # Select an individual based on the rank probabilities\n",
        "    random_nr = random.uniform(0, 1)\n",
        "    cumulative_prob = 0\n",
        "\n",
        "    for idx, prob in enumerate(probabilities):\n",
        "        cumulative_prob += prob\n",
        "        if random_nr <= cumulative_prob:\n",
        "            return deepcopy(sorted_population[idx])  # Return the selected individual"
      ]
    },
    {
      "cell_type": "markdown",
      "id": "77321554",
      "metadata": {
        "id": "77321554"
      },
      "source": [
        "In Tournament Selection, since the individuals are randomly chosen, the frequency distribution will depend on the tournament size and randomness of the selections."
      ]
    },
    {
      "cell_type": "code",
      "execution_count": 9,
      "id": "9892e2a8",
      "metadata": {
        "id": "9892e2a8"
      },
      "outputs": [],
      "source": [
        "def tournament_selection(population: list, tournament_size: int = 3, maximization: bool = False):\n",
        "    \"\"\"Tournament Selection\"\"\"\n",
        "\n",
        "    # Randomly select a subset of individuals (tournament size)\n",
        "    tournament_individuals = random.sample(population, tournament_size)\n",
        "\n",
        "    # Sort the tournament individuals by fitness (minimization, so lower is better)\n",
        "    if maximization:\n",
        "        best_individual = min(tournament_individuals, key=lambda ind: ind.fitness())  # For maximization: select best\n",
        "    else:\n",
        "        best_individual = max(tournament_individuals, key=lambda ind: ind.fitness())  # For minimization: select best\n",
        "\n",
        "    return deepcopy(best_individual)  # Return the best individual from the tournament"
      ]
    },
    {
      "cell_type": "code",
      "execution_count": 10,
      "id": "b2c3e009",
      "metadata": {
        "colab": {
          "base_uri": "https://localhost:8080/"
        },
        "id": "b2c3e009",
        "outputId": "0df63214-81ef-4d95-d34a-b76e8bf5dcef"
      },
      "outputs": [
        {
          "output_type": "stream",
          "name": "stdout",
          "text": [
            "Solution 1 - Fitness: 0.9621404708847306\n",
            "Solution 2 - Fitness: 0.9995917534020519\n",
            "Solution 3 - Fitness: 1.1117186547624969\n",
            "Solution 4 - Fitness: 1.4410880243335424\n",
            "Solution 5 - Fitness: 1.081948355929226\n",
            "Solution 6 - Fitness: 1.0435418495856956\n",
            "Solution 7 - Fitness: 1.6222936647518151\n",
            "Solution 8 - Fitness: 2.379161231036124\n",
            "Solution 9 - Fitness: 1.3198639385658413\n",
            "Solution 10 - Fitness: 1.0435418495856927\n",
            "\n",
            "Ranking Selection Frequency (100 Selections):\n",
            "Fitness 1.0435418495856956: Selected 12 times\n",
            "Fitness 1.6222936647518151: Selected 5 times\n",
            "Fitness 0.9621404708847306: Selected 15 times\n",
            "Fitness 1.0435418495856927: Selected 21 times\n",
            "Fitness 1.3198639385658413: Selected 12 times\n",
            "Fitness 1.1117186547624969: Selected 13 times\n",
            "Fitness 0.9995917534020519: Selected 9 times\n",
            "Fitness 1.4410880243335424: Selected 6 times\n",
            "Fitness 1.081948355929226: Selected 7 times\n",
            "\n",
            "Tournament Selection Frequency (100 Selections):\n",
            "Fitness 1.6222936647518151: Selected 15 times\n",
            "Fitness 1.1117186547624969: Selected 6 times\n",
            "Fitness 1.4410880243335424: Selected 19 times\n",
            "Fitness 2.379161231036124: Selected 31 times\n",
            "Fitness 1.3198639385658413: Selected 20 times\n",
            "Fitness 1.081948355929226: Selected 7 times\n",
            "Fitness 1.0435418495856927: Selected 2 times\n"
          ]
        }
      ],
      "source": [
        "def test_selection():\n",
        "    # Create a small population of TeamAssignmentSolution instances\n",
        "    population = [TeamAssignmentSolution(players) for _ in range(10)]\n",
        "\n",
        "    # Ensure that each individual has been initialized properly\n",
        "    for i, sol in enumerate(population):\n",
        "        sol.random_initial_representation()\n",
        "        print(f\"Solution {i+1} - Fitness: {sol.fitness()}\")\n",
        "\n",
        "    # Run the selection process multiple times (e.g., 100 times) for both methods\n",
        "    ranking_selected_solutions = [ranking_selection(population) for _ in range(100)]\n",
        "    tournament_selected_solutions = [tournament_selection(population) for _ in range(100)]\n",
        "\n",
        "    # Count how many times each fitness was selected\n",
        "    ranking_fitness_counter = Counter([sol.fitness() for sol in ranking_selected_solutions])\n",
        "    tournament_fitness_counter = Counter([sol.fitness() for sol in tournament_selected_solutions])\n",
        "\n",
        "    # Print the selection frequency for both methods\n",
        "    print(\"\\nRanking Selection Frequency (100 Selections):\")\n",
        "    for fitness, count in ranking_fitness_counter.items():\n",
        "        print(f\"Fitness {fitness}: Selected {count} times\")\n",
        "\n",
        "    print(\"\\nTournament Selection Frequency (100 Selections):\")\n",
        "    for fitness, count in tournament_fitness_counter.items():\n",
        "        print(f\"Fitness {fitness}: Selected {count} times\")\n",
        "\n",
        "# Run the test\n",
        "test_selection()"
      ]
    },
    {
      "cell_type": "markdown",
      "id": "517fbf95",
      "metadata": {
        "id": "517fbf95"
      },
      "source": [
        "# Mutation Operators"
      ]
    },
    {
      "cell_type": "markdown",
      "id": "e38c4701",
      "metadata": {
        "id": "e38c4701"
      },
      "source": [
        "This function performs a verbose mutation by swapping one player of the same position between two randomly chosen teams and printing both teams’ lineups before and after the swap for clarity."
      ]
    },
    {
      "cell_type": "code",
      "execution_count": 11,
      "id": "cfce555e",
      "metadata": {
        "colab": {
          "base_uri": "https://localhost:8080/"
        },
        "id": "cfce555e",
        "outputId": "f2caebde-abf0-4583-fd2b-5b9c6d088b2e"
      },
      "outputs": [
        {
          "output_type": "stream",
          "name": "stdout",
          "text": [
            "\n",
            " Swapping between Team 3 and Team 2 at position FWD\n",
            "\n",
            "Before Mutation:\n",
            "Team 3 FWD: ['Adrian Collins', 'Sebastian Perry']\n",
            "Team 2 FWD: ['Elijah Sanders', 'Landon Powell']\n",
            "\n",
            "After Mutation:\n",
            "Team 3 FWD: ['Adrian Collins', 'Landon Powell']\n",
            "Team 2 FWD: ['Elijah Sanders', 'Sebastian Perry']\n"
          ]
        }
      ],
      "source": [
        "def mutate_swap_same_position(solution: TeamAssignmentSolution):\n",
        "    team_ids = list(solution.population.keys())\n",
        "    t1, t2 = random.sample(team_ids, 2)\n",
        "    pos = random.choice([\"GK\", \"DEF\", \"MID\", \"FWD\"])\n",
        "\n",
        "    if not solution.population[t1][pos] or not solution.population[t2][pos]:\n",
        "        print(\"No mutation occurred — one of the teams had no players in position:\", pos)\n",
        "        return\n",
        "\n",
        "    p1_idx = random.randint(0, len(solution.population[t1][pos]) - 1)\n",
        "    p2_idx = random.randint(0, len(solution.population[t2][pos]) - 1)\n",
        "\n",
        "    print(f\"\\n Swapping between Team {t1} and Team {t2} at position {pos.upper()}\")\n",
        "\n",
        "    print(f\"\\nBefore Mutation:\")\n",
        "    print(f\"Team {t1} {pos}: {[p[0] for p in solution.population[t1][pos]]}\")\n",
        "    print(f\"Team {t2} {pos}: {[p[0] for p in solution.population[t2][pos]]}\")\n",
        "\n",
        "    # Swap\n",
        "    solution.population[t1][pos][p1_idx], solution.population[t2][pos][p2_idx] = \\\n",
        "        solution.population[t2][pos][p2_idx], solution.population[t1][pos][p1_idx]\n",
        "\n",
        "    print(f\"\\nAfter Mutation:\")\n",
        "    print(f\"Team {t1} {pos}: {[p[0] for p in solution.population[t1][pos]]}\")\n",
        "    print(f\"Team {t2} {pos}: {[p[0] for p in solution.population[t2][pos]]}\")\n",
        "\n",
        "# Run the test:\n",
        "mutate_swap_same_position(solution)\n"
      ]
    },
    {
      "cell_type": "markdown",
      "id": "272da8c4",
      "metadata": {
        "id": "272da8c4"
      },
      "source": [
        "This mutation function swaps two players between different positions within a team, ensuring that the team’s total cost does not exceed the budget limit after the swap."
      ]
    },
    {
      "cell_type": "code",
      "execution_count": 12,
      "id": "f8043ea3",
      "metadata": {
        "colab": {
          "base_uri": "https://localhost:8080/"
        },
        "id": "f8043ea3",
        "outputId": "06c26f64-52ca-4e81-f20b-b205f6f526e8"
      },
      "outputs": [
        {
          "output_type": "stream",
          "name": "stdout",
          "text": [
            "\n",
            " Swapping within Team 3: Adrian Collins (FWD) <-> Ashton Phillips (MID)\n",
            "\n",
            "Before Mutation - Team 3:\n",
            "GK: ['Jordan Smith']\n",
            "DEF: ['Ethan Howard', 'Jaxon Griffin']\n",
            "MID: ['Dominic Bell', 'Ashton Phillips']\n",
            "FWD: ['Adrian Collins', 'Landon Powell']\n",
            "Cost: 680\n",
            "\n",
            "After Mutation - Team 3:\n",
            "GK: ['Jordan Smith']\n",
            "DEF: ['Ethan Howard', 'Jaxon Griffin']\n",
            "MID: ['Dominic Bell', 'Adrian Collins']\n",
            "FWD: ['Ashton Phillips', 'Landon Powell']\n",
            "Cost: 680\n"
          ]
        }
      ],
      "source": [
        "def mutate_swap_positions_within_team(solution: TeamAssignmentSolution):\n",
        "    team_ids = list(solution.population.keys())\n",
        "    team_id = random.choice(team_ids)\n",
        "    team = solution.population[team_id]\n",
        "\n",
        "    pos1, pos2 = random.sample([\"GK\", \"DEF\", \"MID\", \"FWD\"], 2)\n",
        "\n",
        "    if not team[pos1] or not team[pos2]:\n",
        "        print(\"Mutation skipped: one of the positions is empty.\")\n",
        "        return\n",
        "\n",
        "    idx1 = random.randint(0, len(team[pos1]) - 1)\n",
        "    idx2 = random.randint(0, len(team[pos2]) - 1)\n",
        "\n",
        "    p1 = team[pos1][idx1]\n",
        "    p2 = team[pos2][idx2]\n",
        "\n",
        "    new_cost = team[\"total_cost\"] - p1[3] - p2[3] + p2[3] + p1[3]\n",
        "\n",
        "    print(f\"\\n Swapping within Team {team_id}: {p1[0]} ({pos1}) <-> {p2[0]} ({pos2})\")\n",
        "\n",
        "    print(f\"\\nBefore Mutation - Team {team_id}:\")\n",
        "    for pos in [\"GK\", \"DEF\", \"MID\", \"FWD\"]:\n",
        "        print(f\"{pos}: {[p[0] for p in team[pos]]}\")\n",
        "    print(\"Cost:\", team[\"total_cost\"])\n",
        "\n",
        "    if new_cost <= MAX_BUDGET:\n",
        "        team[pos1][idx1], team[pos2][idx2] = p2, p1\n",
        "        team[\"total_cost\"] = new_cost\n",
        "\n",
        "        print(f\"\\nAfter Mutation - Team {team_id}:\")\n",
        "        for pos in [\"GK\", \"DEF\", \"MID\", \"FWD\"]:\n",
        "            print(f\"{pos}: {[p[0] for p in team[pos]]}\")\n",
        "        print(\"Cost:\", team[\"total_cost\"])\n",
        "    else:\n",
        "        print(\"Mutation cancelled: would exceed budget.\")\n",
        "\n",
        "# Run the test:\n",
        "mutate_swap_positions_within_team(solution)\n"
      ]
    },
    {
      "cell_type": "markdown",
      "id": "fbcc66b3",
      "metadata": {
        "id": "fbcc66b3"
      },
      "source": [
        "This function swaps three players from different positions (GK, DEF, MID, FWD) within a team, ensuring that the team structure (1 GK, 2 DEF, 2 MID, 2 FWD) remains valid, and shuffling the players while preserving the overall team balance."
      ]
    },
    {
      "cell_type": "code",
      "execution_count": 13,
      "id": "a37e10a8",
      "metadata": {
        "colab": {
          "base_uri": "https://localhost:8080/"
        },
        "id": "a37e10a8",
        "outputId": "edb8e7cb-a9d9-467e-86f8-2fa12c9709c4"
      },
      "outputs": [
        {
          "output_type": "stream",
          "name": "stdout",
          "text": [
            "\n",
            "Before Mutation:\n",
            "Team 4 GK: ['Blake Henderson']\n",
            "Team 4 FWD: ['Chase Murphy', 'Colton Gray']\n",
            "Team 4 DEF: ['Brayden Hughes', 'Daniel Foster']\n",
            "\n",
            "After Mutation:\n",
            "Team 4 GK: ['Chase Murphy']\n",
            "Team 4 FWD: ['Daniel Foster', 'Colton Gray']\n",
            "Team 4 DEF: ['Brayden Hughes', 'Blake Henderson']\n"
          ]
        }
      ],
      "source": [
        "def mutate_swap_three_players(solution: TeamAssignmentSolution):\n",
        "    team_to_mutate = random.choice(list(solution.population.keys()))\n",
        "    positions = [\"GK\", \"DEF\", \"MID\", \"FWD\"]\n",
        "\n",
        "    # Randomly select three distinct positions to swap players\n",
        "    pos1, pos2, pos3 = random.sample(positions, 3)\n",
        "\n",
        "    # Ensure all selected positions have players to swap\n",
        "    if not solution.population[team_to_mutate][pos1] or \\\n",
        "       not solution.population[team_to_mutate][pos2] or \\\n",
        "       not solution.population[team_to_mutate][pos3]:\n",
        "        return\n",
        "\n",
        "    # Select random players from each position\n",
        "    player1_idx = random.randint(0, len(solution.population[team_to_mutate][pos1]) - 1)\n",
        "    player2_idx = random.randint(0, len(solution.population[team_to_mutate][pos2]) - 1)\n",
        "    player3_idx = random.randint(0, len(solution.population[team_to_mutate][pos3]) - 1)\n",
        "\n",
        "    player1 = solution.population[team_to_mutate][pos1][player1_idx]\n",
        "    player2 = solution.population[team_to_mutate][pos2][player2_idx]\n",
        "    player3 = solution.population[team_to_mutate][pos3][player3_idx]\n",
        "\n",
        "    # Print before the mutation\n",
        "    print(f\"\\nBefore Mutation:\")\n",
        "    print(f\"Team {team_to_mutate} {pos1}: {[p[0] for p in solution.population[team_to_mutate][pos1]]}\")\n",
        "    print(f\"Team {team_to_mutate} {pos2}: {[p[0] for p in solution.population[team_to_mutate][pos2]]}\")\n",
        "    print(f\"Team {team_to_mutate} {pos3}: {[p[0] for p in solution.population[team_to_mutate][pos3]]}\")\n",
        "\n",
        "    # Swap the three players\n",
        "    solution.population[team_to_mutate][pos1][player1_idx], solution.population[team_to_mutate][pos2][player2_idx], solution.population[team_to_mutate][pos3][player3_idx] = \\\n",
        "        solution.population[team_to_mutate][pos2][player2_idx], solution.population[team_to_mutate][pos3][player3_idx], solution.population[team_to_mutate][pos1][player1_idx]\n",
        "\n",
        "    # Print after the mutation\n",
        "    print(f\"\\nAfter Mutation:\")\n",
        "    print(f\"Team {team_to_mutate} {pos1}: {[p[0] for p in solution.population[team_to_mutate][pos1]]}\")\n",
        "    print(f\"Team {team_to_mutate} {pos2}: {[p[0] for p in solution.population[team_to_mutate][pos2]]}\")\n",
        "    print(f\"Team {team_to_mutate} {pos3}: {[p[0] for p in solution.population[team_to_mutate][pos3]]}\")\n",
        "\n",
        "# Run the test\n",
        "mutate_swap_three_players(solution)\n"
      ]
    },
    {
      "cell_type": "markdown",
      "id": "a6d2af6e",
      "metadata": {
        "id": "a6d2af6e"
      },
      "source": [
        "# Crossover Operators"
      ]
    },
    {
      "cell_type": "code",
      "execution_count": 14,
      "id": "cdbc2348",
      "metadata": {
        "id": "cdbc2348"
      },
      "outputs": [],
      "source": [
        "def crossover_team_blocks(parent1: TeamAssignmentSolution, parent2: TeamAssignmentSolution):\n",
        "    crossover_point = random.randint(1, NUM_TEAMS - 1)\n",
        "    child1_teams = {}\n",
        "    child2_teams = {}\n",
        "\n",
        "    for i in range(NUM_TEAMS):\n",
        "        if i < crossover_point:\n",
        "            child1_teams[i] = deepcopy(parent1.population[i])\n",
        "            child2_teams[i] = deepcopy(parent2.population[i])\n",
        "        else:\n",
        "            child1_teams[i] = deepcopy(parent2.population[i])\n",
        "            child2_teams[i] = deepcopy(parent1.population[i])\n",
        "\n",
        "    return TeamAssignmentSolution(parent1.players, child1_teams), TeamAssignmentSolution(parent2.players, child2_teams)"
      ]
    },
    {
      "cell_type": "code",
      "execution_count": 15,
      "id": "a6318be4",
      "metadata": {
        "colab": {
          "base_uri": "https://localhost:8080/"
        },
        "id": "a6318be4",
        "outputId": "3213494f-cdae-41d5-f5ee-d95585caaae4"
      },
      "outputs": [
        {
          "output_type": "stream",
          "name": "stdout",
          "text": [
            "Offspring 1:\n",
            "Team 0: {'GK': [('Blake Henderson', 'GK', 87, 95)], 'DEF': [('Brayden Hughes', 'DEF', 87, 100), ('Caleb Fisher', 'DEF', 84, 85)], 'MID': [('Ashton Phillips', 'MID', 90, 110), ('Austin Torres', 'MID', 82, 80)], 'FWD': [('Sebastian Perry', 'FWD', 95, 150), ('Chase Murphy', 'FWD', 86, 95)], 'total_cost': 715}\n",
            "Team 1: {'GK': [('Ryan Mitchell', 'GK', 83, 85)], 'DEF': [('Daniel Foster', 'DEF', 90, 110), ('Jaxon Griffin', 'DEF', 79, 65)], 'MID': [('Dylan Morgan', 'MID', 91, 115), ('Gavin Richardson', 'MID', 87, 95)], 'FWD': [('Julian Scott', 'FWD', 92, 130), ('Tyler Jenkins', 'FWD', 80, 70)], 'total_cost': 670}\n",
            "Team 2: {'GK': [('Chris Thompson', 'GK', 80, 80)], 'DEF': [('Ethan Howard', 'DEF', 80, 70), ('Mason Reed', 'DEF', 82, 75)], 'MID': [('Dominic Bell', 'MID', 86, 95), ('Connor Hayes', 'MID', 89, 105)], 'FWD': [('Zachary Nelson', 'FWD', 86, 92), ('Landon Powell', 'FWD', 89, 110)], 'total_cost': 627}\n",
            "Team 3: {'GK': [('Blake Henderson', 'GK', 87, 95)], 'DEF': [('Lucas Bennett', 'DEF', 85, 90), ('Mason Reed', 'DEF', 82, 75)], 'MID': [('Nathan Wright', 'MID', 92, 120), ('Dylan Morgan', 'MID', 91, 115)], 'FWD': [('Tyler Jenkins', 'FWD', 80, 70), ('Elijah Sanders', 'FWD', 93, 140)], 'total_cost': 705}\n",
            "Team 4: {'GK': [('Ryan Mitchell', 'GK', 83, 85)], 'DEF': [('Logan Brooks', 'DEF', 86, 95), ('Owen Parker', 'DEF', 88, 100)], 'MID': [('Hunter Cooper', 'MID', 83, 85), ('Austin Torres', 'MID', 82, 80)], 'FWD': [('Zachary Nelson', 'FWD', 86, 92), ('Xavier Bryant', 'FWD', 90, 120)], 'total_cost': 657}\n",
            "\n",
            "Offspring 2:\n",
            "Team 0: {'GK': [('Chris Thompson', 'GK', 80, 80)], 'DEF': [('Brayden Hughes', 'DEF', 87, 100), ('Ethan Howard', 'DEF', 80, 70)], 'MID': [('Dominic Bell', 'MID', 86, 95), ('Bentley Rivera', 'MID', 88, 100)], 'FWD': [('Julian Scott', 'FWD', 92, 130), ('Landon Powell', 'FWD', 89, 110)], 'total_cost': 685}\n",
            "Team 1: {'GK': [('Alex Carter', 'GK', 85, 90)], 'DEF': [('Caleb Fisher', 'DEF', 84, 85), ('Daniel Foster', 'DEF', 90, 110)], 'MID': [('Spencer Ward', 'MID', 84, 85), ('Gavin Richardson', 'MID', 87, 95)], 'FWD': [('Adrian Collins', 'FWD', 85, 90), ('Chase Murphy', 'FWD', 86, 95)], 'total_cost': 650}\n",
            "Team 2: {'GK': [('Jordan Smith', 'GK', 88, 100)], 'DEF': [('Jaxon Griffin', 'DEF', 79, 65), ('Maxwell Flores', 'DEF', 81, 72)], 'MID': [('Connor Hayes', 'MID', 89, 105), ('Ashton Phillips', 'MID', 90, 110)], 'FWD': [('Sebastian Perry', 'FWD', 95, 150), ('Colton Gray', 'FWD', 91, 125)], 'total_cost': 727}\n",
            "Team 3: {'GK': [('Alex Carter', 'GK', 85, 90)], 'DEF': [('Logan Brooks', 'DEF', 86, 95), ('Maxwell Flores', 'DEF', 81, 72)], 'MID': [('Hunter Cooper', 'MID', 83, 85), ('Spencer Ward', 'MID', 84, 85)], 'FWD': [('Colton Gray', 'FWD', 91, 125), ('Elijah Sanders', 'FWD', 93, 140)], 'total_cost': 692}\n",
            "Team 4: {'GK': [('Jordan Smith', 'GK', 88, 100)], 'DEF': [('Lucas Bennett', 'DEF', 85, 90), ('Owen Parker', 'DEF', 88, 100)], 'MID': [('Nathan Wright', 'MID', 92, 120), ('Bentley Rivera', 'MID', 88, 100)], 'FWD': [('Adrian Collins', 'FWD', 85, 90), ('Xavier Bryant', 'FWD', 90, 120)], 'total_cost': 720}\n"
          ]
        }
      ],
      "source": [
        "parent1 = TeamAssignmentSolution(players)\n",
        "parent1.random_initial_representation()\n",
        "\n",
        "parent2 = TeamAssignmentSolution(players)\n",
        "parent2.random_initial_representation()\n",
        "\n",
        "# Perform crossover\n",
        "offspring1, offspring2 = crossover_team_blocks(parent1, parent2)\n",
        "\n",
        "# Print results for offspring1 and offspring2\n",
        "print(\"Offspring 1:\")\n",
        "for team_id, team in offspring1.population.items():\n",
        "    print(f\"Team {team_id}: {team}\")\n",
        "\n",
        "print(\"\\nOffspring 2:\")\n",
        "for team_id, team in offspring2.population.items():\n",
        "    print(f\"Team {team_id}: {team}\")"
      ]
    },
    {
      "cell_type": "markdown",
      "source": [
        "Creates a new team by selecting the most efficient players (Performance/Rating)\n",
        "    from two parent teams, while ensuring constraints are met."
      ],
      "metadata": {
        "id": "EUpqf5HZi8_0"
      },
      "id": "EUpqf5HZi8_0"
    },
    {
      "cell_type": "code",
      "execution_count": 16,
      "id": "7a6652cb",
      "metadata": {
        "id": "7a6652cb"
      },
      "outputs": [],
      "source": [
        "def best_performance_crossover(team1, team2, all_players):\n",
        "\n",
        "    # Combine players from both parent teams and remove duplicates by name\n",
        "    combined_players = {p[0]: p for pos in POSITION_REQUIREMENTS for p in team1[pos] + team2[pos]}\n",
        "    candidate_players = list(combined_players.values())\n",
        "\n",
        "    # Sort players by efficiency = Performance / Rating\n",
        "    candidate_players.sort(key=lambda p: p[3] / p[2], reverse=True)\n",
        "\n",
        "    new_team = defaultdict(list)\n",
        "    new_team[\"total_cost\"] = 0\n",
        "\n",
        "    # Try to fill the team with best performers\n",
        "    for player in candidate_players:\n",
        "        pos = player[1]\n",
        "        cost = player[3]\n",
        "        if len(new_team[pos]) < POSITION_REQUIREMENTS[pos] and new_team[\"total_cost\"] + cost <= MAX_BUDGET:\n",
        "            new_team[pos].append(player)\n",
        "            new_team[\"total_cost\"] += cost\n",
        "\n",
        "    # Fill missing slots using all_players\n",
        "    used_names = {p[0] for pos in POSITION_REQUIREMENTS for p in new_team[pos]}\n",
        "    for pos in POSITION_REQUIREMENTS:\n",
        "        if len(new_team[pos]) < POSITION_REQUIREMENTS[pos]:\n",
        "            available = [p for p in all_players if p[1] == pos and p[0] not in used_names]\n",
        "            # Sort again by efficiency\n",
        "            available.sort(key=lambda p: p[3] / p[2], reverse=True)\n",
        "            for p in available:\n",
        "                if new_team[\"total_cost\"] + p[3] <= MAX_BUDGET:\n",
        "                    new_team[pos].append(p)\n",
        "                    new_team[\"total_cost\"] += p[3]\n",
        "                    used_names.add(p[0])\n",
        "                if len(new_team[pos]) == POSITION_REQUIREMENTS[pos]:\n",
        "                    break\n",
        "\n",
        "    # Final validation\n",
        "    valid = all(len(new_team[pos]) == POSITION_REQUIREMENTS[pos] for pos in POSITION_REQUIREMENTS)\n",
        "    return new_team if valid else None\n"
      ]
    },
    {
      "cell_type": "code",
      "execution_count": 17,
      "id": "b58c408d",
      "metadata": {
        "colab": {
          "base_uri": "https://localhost:8080/"
        },
        "id": "b58c408d",
        "outputId": "04fe5c36-713c-484f-f22d-828b334f52d8"
      },
      "outputs": [
        {
          "output_type": "stream",
          "name": "stdout",
          "text": [
            "New team successfully generated with best-performance crossover:\n",
            "GK: ['Jordan Smith']\n",
            "DEF: ['Brayden Hughes', 'Owen Parker']\n",
            "MID: ['Nathan Wright', 'Austin Torres']\n",
            "FWD: ['Julian Scott', 'Xavier Bryant']\n",
            "Total cost: 750\n"
          ]
        }
      ],
      "source": [
        "## parent1 = TeamAssignmentSolution(players)\n",
        "## parent1.random_initial_representation()\n",
        "\n",
        "## parent2 = TeamAssignmentSolution(players)\n",
        "## parent2.random_initial_representation()\n",
        "\n",
        "team_a = parent1.population[random.choice(list(parent1.population.keys()))]\n",
        "team_b = parent2.population[random.choice(list(parent2.population.keys()))]\n",
        "\n",
        "new_team = best_performance_crossover(team_a, team_b, players)\n",
        "if new_team:\n",
        "    print(\"New team successfully generated with best-performance crossover:\")\n",
        "    for pos in POSITION_REQUIREMENTS:\n",
        "        print(f\"{pos}: {[p[0] for p in new_team[pos]]}\")\n",
        "    print(\"Total cost:\", new_team[\"total_cost\"])\n",
        "else:\n",
        "    print(\"Failed to generate a valid team.\")"
      ]
    },
    {
      "cell_type": "markdown",
      "source": [
        "Creates a new team by randomly mixing players from two parent teams, ensuring all constraints (positions, budget, and total players) are met."
      ],
      "metadata": {
        "id": "arkrSooHkF_F"
      },
      "id": "arkrSooHkF_F"
    },
    {
      "cell_type": "code",
      "source": [
        "def team_mix_crossover(team1, team2):\n",
        "\n",
        "    # Collect all players from both teams, avoiding duplicates by player name\n",
        "    combined_players = {p[0]: p for pos in POSITION_REQUIREMENTS for p in team1[pos] + team2[pos]}\n",
        "    player_pool = list(combined_players.values())\n",
        "    random.shuffle(player_pool)\n",
        "\n",
        "    new_team = defaultdict(list)\n",
        "    new_team[\"total_cost\"] = 0\n",
        "\n",
        "    for player in player_pool:\n",
        "        name, pos, rating, cost = player\n",
        "        if len(new_team[pos]) < POSITION_REQUIREMENTS[pos] and new_team[\"total_cost\"] + cost <= MAX_BUDGET:\n",
        "            new_team[pos].append(player)\n",
        "            new_team[\"total_cost\"] += cost\n",
        "\n",
        "        # Stop early if team is complete\n",
        "        total_players = sum(len(new_team[p]) for p in POSITION_REQUIREMENTS)\n",
        "        if total_players == PLAYERS_PER_TEAM:\n",
        "            break\n",
        "\n",
        "    # Final validation: check if the team is complete and valid\n",
        "    valid = all(len(new_team[pos]) == POSITION_REQUIREMENTS[pos] for pos in POSITION_REQUIREMENTS)\n",
        "    return new_team if valid else None"
      ],
      "metadata": {
        "id": "Bthn8Ly8kD-X"
      },
      "id": "Bthn8Ly8kD-X",
      "execution_count": 18,
      "outputs": []
    },
    {
      "cell_type": "code",
      "source": [
        "# Randomly select one team from each solution\n",
        "team_a = parent1.population[random.choice(list(parent1.population.keys()))]\n",
        "team_b = parent2.population[random.choice(list(parent2.population.keys()))]\n",
        "\n",
        "# Perform crossover\n",
        "new_team = team_mix_crossover(team_a, team_b)\n",
        "\n",
        "# Display result\n",
        "if new_team:\n",
        "    print(\"New team created via Team Mix Crossover:\")\n",
        "    for pos in POSITION_REQUIREMENTS:\n",
        "        print(f\"{pos}: {[p[0] for p in new_team[pos]]}\")\n",
        "    print(\"Total cost:\", new_team[\"total_cost\"])\n",
        "else:\n",
        "    print(\"Crossover failed to produce a valid team.\")"
      ],
      "metadata": {
        "colab": {
          "base_uri": "https://localhost:8080/"
        },
        "id": "UYNxzWxTkSm8",
        "outputId": "36fc9f7d-a1ff-4fad-a446-d5c19f115f17"
      },
      "id": "UYNxzWxTkSm8",
      "execution_count": 20,
      "outputs": [
        {
          "output_type": "stream",
          "name": "stdout",
          "text": [
            "New team created via Team Mix Crossover:\n",
            "GK: ['Blake Henderson']\n",
            "DEF: ['Caleb Fisher', 'Brayden Hughes']\n",
            "MID: ['Austin Torres', 'Ashton Phillips']\n",
            "FWD: ['Landon Powell', 'Sebastian Perry']\n",
            "Total cost: 730\n"
          ]
        }
      ]
    }
  ],
  "metadata": {
    "kernelspec": {
      "display_name": "base",
      "language": "python",
      "name": "python3"
    },
    "language_info": {
      "codemirror_mode": {
        "name": "ipython",
        "version": 3
      },
      "file_extension": ".py",
      "mimetype": "text/x-python",
      "name": "python",
      "nbconvert_exporter": "python",
      "pygments_lexer": "ipython3",
      "version": "3.12.4"
    },
    "colab": {
      "provenance": []
    }
  },
  "nbformat": 4,
  "nbformat_minor": 5
}
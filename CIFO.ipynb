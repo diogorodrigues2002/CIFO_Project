{
 "cells": [
  {
   "cell_type": "code",
   "execution_count": 84,
   "id": "77ae0f13",
   "metadata": {},
   "outputs": [],
   "source": [
    "import sys\n",
    "sys.path.append('..')\n",
    "import random\n",
    "import numpy as np\n",
    "import pandas as pd\n",
    "from copy import deepcopy\n",
    "from collections import Counter"
   ]
  },
  {
   "cell_type": "markdown",
   "id": "9d428df5",
   "metadata": {},
   "source": [
    "# Load the Data"
   ]
  },
  {
   "cell_type": "code",
   "execution_count": 3,
   "id": "aeeda031",
   "metadata": {},
   "outputs": [],
   "source": [
    "# Load the data from the Excel file\n",
    "df = pd.read_excel('players.xlsx')\n",
    "\n",
    "# Extract player data\n",
    "players = []\n",
    "for _, row in df.iterrows():\n",
    "    players.append((row['Name'], row['Position'], row['Skill'], row['Salary (â‚¬M)']))"
   ]
  },
  {
   "cell_type": "code",
   "execution_count": 4,
   "id": "c893a92a",
   "metadata": {},
   "outputs": [
    {
     "name": "stdout",
     "output_type": "stream",
     "text": [
      "         Player Name Position  Rating  Performance\n",
      "0        Alex Carter       GK      85           90\n",
      "1       Jordan Smith       GK      88          100\n",
      "2      Ryan Mitchell       GK      83           85\n",
      "3     Chris Thompson       GK      80           80\n",
      "4    Blake Henderson       GK      87           95\n",
      "5      Daniel Foster      DEF      90          110\n",
      "6      Lucas Bennett      DEF      85           90\n",
      "7        Owen Parker      DEF      88          100\n",
      "8       Ethan Howard      DEF      80           70\n",
      "9         Mason Reed      DEF      82           75\n",
      "10      Logan Brooks      DEF      86           95\n",
      "11      Caleb Fisher      DEF      84           85\n",
      "12     Nathan Wright      MID      92          120\n",
      "13      Connor Hayes      MID      89          105\n",
      "14      Dylan Morgan      MID      91          115\n",
      "15     Hunter Cooper      MID      83           85\n",
      "16     Austin Torres      MID      82           80\n",
      "17  Gavin Richardson      MID      87           95\n",
      "18      Spencer Ward      MID      84           85\n",
      "19   Sebastian Perry      FWD      95          150\n",
      "20     Xavier Bryant      FWD      90          120\n",
      "21    Elijah Sanders      FWD      93          140\n",
      "22    Adrian Collins      FWD      85           90\n",
      "23     Tyler Jenkins      FWD      80           70\n",
      "24      Chase Murphy      FWD      86           95\n",
      "25     Landon Powell      FWD      89          110\n",
      "26      Julian Scott      FWD      92          130\n",
      "27    Bentley Rivera      MID      88          100\n",
      "28    Maxwell Flores      DEF      81           72\n",
      "29      Dominic Bell      MID      86           95\n",
      "30     Jaxon Griffin      DEF      79           65\n",
      "31   Ashton Phillips      MID      90          110\n",
      "32       Colton Gray      FWD      91          125\n",
      "33    Brayden Hughes      DEF      87          100\n",
      "34    Zachary Nelson      FWD      86           92\n"
     ]
    }
   ],
   "source": [
    "df = pd.DataFrame(players, columns=['Player Name', 'Position', 'Rating', 'Performance'])\n",
    "print(df)"
   ]
  },
  {
   "cell_type": "code",
   "execution_count": 5,
   "id": "aba03c84",
   "metadata": {},
   "outputs": [
    {
     "data": {
      "text/plain": [
       "[('Alex Carter', 'GK', 85, 90),\n",
       " ('Jordan Smith', 'GK', 88, 100),\n",
       " ('Ryan Mitchell', 'GK', 83, 85),\n",
       " ('Chris Thompson', 'GK', 80, 80),\n",
       " ('Blake Henderson', 'GK', 87, 95),\n",
       " ('Daniel Foster', 'DEF', 90, 110),\n",
       " ('Lucas Bennett', 'DEF', 85, 90),\n",
       " ('Owen Parker', 'DEF', 88, 100),\n",
       " ('Ethan Howard', 'DEF', 80, 70),\n",
       " ('Mason Reed', 'DEF', 82, 75),\n",
       " ('Logan Brooks', 'DEF', 86, 95),\n",
       " ('Caleb Fisher', 'DEF', 84, 85),\n",
       " ('Nathan Wright', 'MID', 92, 120),\n",
       " ('Connor Hayes', 'MID', 89, 105),\n",
       " ('Dylan Morgan', 'MID', 91, 115),\n",
       " ('Hunter Cooper', 'MID', 83, 85),\n",
       " ('Austin Torres', 'MID', 82, 80),\n",
       " ('Gavin Richardson', 'MID', 87, 95),\n",
       " ('Spencer Ward', 'MID', 84, 85),\n",
       " ('Sebastian Perry', 'FWD', 95, 150),\n",
       " ('Xavier Bryant', 'FWD', 90, 120),\n",
       " ('Elijah Sanders', 'FWD', 93, 140),\n",
       " ('Adrian Collins', 'FWD', 85, 90),\n",
       " ('Tyler Jenkins', 'FWD', 80, 70),\n",
       " ('Chase Murphy', 'FWD', 86, 95),\n",
       " ('Landon Powell', 'FWD', 89, 110),\n",
       " ('Julian Scott', 'FWD', 92, 130),\n",
       " ('Bentley Rivera', 'MID', 88, 100),\n",
       " ('Maxwell Flores', 'DEF', 81, 72),\n",
       " ('Dominic Bell', 'MID', 86, 95),\n",
       " ('Jaxon Griffin', 'DEF', 79, 65),\n",
       " ('Ashton Phillips', 'MID', 90, 110),\n",
       " ('Colton Gray', 'FWD', 91, 125),\n",
       " ('Brayden Hughes', 'DEF', 87, 100),\n",
       " ('Zachary Nelson', 'FWD', 86, 92)]"
      ]
     },
     "execution_count": 5,
     "metadata": {},
     "output_type": "execute_result"
    }
   ],
   "source": [
    "players"
   ]
  },
  {
   "cell_type": "code",
   "execution_count": 6,
   "id": "697b5499",
   "metadata": {},
   "outputs": [],
   "source": [
    "# Constants\n",
    "NUM_TEAMS = 5\n",
    "PLAYERS_PER_TEAM = 7\n",
    "MAX_BUDGET = 750  # Million €\n",
    "POSITION_REQUIREMENTS = {\"GK\": 1, \"DEF\": 2, \"MID\": 2, \"FWD\": 2}"
   ]
  },
  {
   "cell_type": "code",
   "execution_count": null,
   "id": "1033421e",
   "metadata": {},
   "outputs": [],
   "source": [
    "class TeamAssignmentSolution:\n",
    "    def __init__(self, players, population=None):\n",
    "        self.players = players  # List of players that will be assigned to teams\n",
    "        self.population = population if population else {}  # Dictionary with team assignments\n",
    "    \n",
    "    def random_initial_representation(self):\n",
    "        \"\"\"Randomly create a valid team assignment representation.\"\"\"\n",
    "        # Initialize empty teams with required position slots and cost trackers\n",
    "        teams = {i: {\"GK\": [], \"DEF\": [], \"MID\": [], \"FWD\": [], \"total_cost\": 0} for i in range(NUM_TEAMS)}\n",
    "        \n",
    "        # Shuffle players to randomly assign them to teams\n",
    "        shuffled_players = random.sample(self.players, len(self.players))\n",
    "        \n",
    "        for player in shuffled_players:\n",
    "            player_name, position, skill, cost = player\n",
    "            assigned = False\n",
    "            # Try to assign the player to a team while respecting position and budget constraints\n",
    "            for team_id in teams:\n",
    "                if len(teams[team_id][position]) < POSITION_REQUIREMENTS[position] and teams[team_id][\"total_cost\"] + cost <= MAX_BUDGET:\n",
    "                    teams[team_id][position].append(player)\n",
    "                    teams[team_id][\"total_cost\"] += cost\n",
    "                    assigned = True\n",
    "                    break\n",
    "            if not assigned:\n",
    "                continue  # Skip players that can't be assigned under budget or position constraints\n",
    "        \n",
    "        # Store the generated team assignment\n",
    "        self.population = teams\n",
    "        return self.population\n",
    "    \n",
    "    def fitness(self):\n",
    "        \"\"\"Evaluate the quality of the solution.\"\"\"\n",
    "        team_avg_skills = []\n",
    "        \n",
    "        # Iterate over each team in the population\n",
    "        for team in self.population.values():\n",
    "            total_skill = 0\n",
    "            total_players = 0\n",
    "            \n",
    "            # Iterate over each position (GK, DEF, MID, FWD)\n",
    "            for position in [\"GK\", \"DEF\", \"MID\", \"FWD\"]:\n",
    "                if len(team[position]) > 0:  # Ensure the position is filled\n",
    "                    for player in team[position]:\n",
    "                        total_skill += player[2]  # Add the skill rating of the player\n",
    "                        total_players += 1  # Count the player\n",
    "            \n",
    "            # Calculate the average skill rating for the team\n",
    "            avg_skill = total_skill / total_players if total_players > 0 else 0\n",
    "            team_avg_skills.append(avg_skill)\n",
    "\n",
    "        # Calculate the standard deviation of the average skill ratings across teams\n",
    "        std_dev = np.std(team_avg_skills)\n",
    "        return std_dev\n"
   ]
  },
  {
   "cell_type": "code",
   "execution_count": 70,
   "id": "6938226b",
   "metadata": {},
   "outputs": [
    {
     "name": "stdout",
     "output_type": "stream",
     "text": [
      "Fitness Score: 0.9187391537607729\n"
     ]
    }
   ],
   "source": [
    "# Create an instance of the TeamAssignmentSolution class\n",
    "solution = TeamAssignmentSolution(players)\n",
    "solution.random_initial_representation()\n",
    "\n",
    "# Evaluate the fitness of the initial population\n",
    "fitness_score = solution.fitness()\n",
    "print(f\"Fitness Score: {fitness_score}\")"
   ]
  },
  {
   "cell_type": "markdown",
   "id": "eb12241a",
   "metadata": {},
   "source": [
    "# Selection Mechanism"
   ]
  },
  {
   "cell_type": "markdown",
   "id": "22c0c736",
   "metadata": {},
   "source": [
    "In Ranking Selection, solutions with better fitness (lower fitness in a minimization problem) should be selected more frequently, as their ranks will be higher."
   ]
  },
  {
   "cell_type": "code",
   "execution_count": 94,
   "id": "630bd312",
   "metadata": {},
   "outputs": [],
   "source": [
    "def ranking_selection(population: list, maximization: bool = False):\n",
    "    \"\"\"Ranking Selection\"\"\"\n",
    "    \n",
    "    # Sort the population based on fitness\n",
    "    sorted_population = sorted(population, key=lambda ind: ind.fitness())\n",
    "    \n",
    "    # For minimization, rank from best to worst (lower fitness gets a higher rank)\n",
    "    if not maximization:\n",
    "        sorted_population.reverse()  # Reverse the sorting for minimization (lower fitness first)\n",
    "    \n",
    "    # Assign ranks to each individual (1 for the best, 2 for second-best, etc.)\n",
    "    ranks = list(range(1, len(population) + 1))\n",
    "    \n",
    "    # Calculate selection probabilities based on ranks\n",
    "    total_rank = sum(ranks)\n",
    "    probabilities = [rank / total_rank for rank in ranks]\n",
    "    \n",
    "    # Select an individual based on the rank probabilities\n",
    "    random_nr = random.uniform(0, 1)\n",
    "    cumulative_prob = 0\n",
    "    \n",
    "    for idx, prob in enumerate(probabilities):\n",
    "        cumulative_prob += prob\n",
    "        if random_nr <= cumulative_prob:\n",
    "            return deepcopy(sorted_population[idx])  # Return the selected individual"
   ]
  },
  {
   "cell_type": "markdown",
   "id": "77321554",
   "metadata": {},
   "source": [
    "In Tournament Selection, since the individuals are randomly chosen, the frequency distribution will depend on the tournament size and randomness of the selections."
   ]
  },
  {
   "cell_type": "code",
   "execution_count": 95,
   "id": "9892e2a8",
   "metadata": {},
   "outputs": [],
   "source": [
    "def tournament_selection(population: list, tournament_size: int = 3, maximization: bool = False):\n",
    "    \"\"\"Tournament Selection\"\"\"\n",
    "    \n",
    "    # Randomly select a subset of individuals (tournament size)\n",
    "    tournament_individuals = random.sample(population, tournament_size)\n",
    "    \n",
    "    # Sort the tournament individuals by fitness (minimization, so lower is better)\n",
    "    if maximization:\n",
    "        best_individual = min(tournament_individuals, key=lambda ind: ind.fitness())  # For maximization: select best\n",
    "    else:\n",
    "        best_individual = max(tournament_individuals, key=lambda ind: ind.fitness())  # For minimization: select best\n",
    "    \n",
    "    return deepcopy(best_individual)  # Return the best individual from the tournament"
   ]
  },
  {
   "cell_type": "code",
   "execution_count": 97,
   "id": "b2c3e009",
   "metadata": {},
   "outputs": [
    {
     "name": "stdout",
     "output_type": "stream",
     "text": [
      "Solution 1 - Fitness: 0.6663945022680342\n",
      "Solution 2 - Fitness: 0.8870956969291464\n",
      "Solution 3 - Fitness: 1.702445886207506\n",
      "Solution 4 - Fitness: 0.7306692487168277\n",
      "Solution 5 - Fitness: 1.3167678424917624\n",
      "Solution 6 - Fitness: 1.206783547539591\n",
      "Solution 7 - Fitness: 0.8446711713768246\n",
      "Solution 8 - Fitness: 1.1863165424015245\n",
      "Solution 9 - Fitness: 1.874860539031192\n",
      "Solution 10 - Fitness: 0.5142857142857161\n",
      "\n",
      "Ranking Selection Frequency (100 Selections):\n",
      "Fitness 0.8446711713768246: Selected 11 times\n",
      "Fitness 1.206783547539591: Selected 7 times\n",
      "Fitness 1.3167678424917624: Selected 9 times\n",
      "Fitness 1.1863165424015245: Selected 7 times\n",
      "Fitness 0.5142857142857161: Selected 24 times\n",
      "Fitness 0.8870956969291464: Selected 10 times\n",
      "Fitness 0.7306692487168277: Selected 15 times\n",
      "Fitness 0.6663945022680342: Selected 13 times\n",
      "Fitness 1.702445886207506: Selected 1 times\n",
      "Fitness 1.874860539031192: Selected 3 times\n",
      "\n",
      "Tournament Selection Frequency (100 Selections):\n",
      "Fitness 1.1863165424015245: Selected 5 times\n",
      "Fitness 1.874860539031192: Selected 28 times\n",
      "Fitness 0.8870956969291464: Selected 6 times\n",
      "Fitness 1.3167678424917624: Selected 11 times\n",
      "Fitness 1.206783547539591: Selected 16 times\n",
      "Fitness 1.702445886207506: Selected 29 times\n",
      "Fitness 0.8446711713768246: Selected 2 times\n",
      "Fitness 0.7306692487168277: Selected 3 times\n"
     ]
    }
   ],
   "source": [
    "def test_selection():\n",
    "    # Create a small population of TeamAssignmentSolution instances\n",
    "    population = [TeamAssignmentSolution(players) for _ in range(10)]\n",
    "    \n",
    "    # Ensure that each individual has been initialized properly\n",
    "    for i, sol in enumerate(population):\n",
    "        sol.random_initial_representation()\n",
    "        print(f\"Solution {i+1} - Fitness: {sol.fitness()}\")\n",
    "    \n",
    "    # Run the selection process multiple times (e.g., 100 times) for both methods\n",
    "    ranking_selected_solutions = [ranking_selection(population) for _ in range(100)]\n",
    "    tournament_selected_solutions = [tournament_selection(population) for _ in range(100)]\n",
    "    \n",
    "    # Count how many times each fitness was selected\n",
    "    ranking_fitness_counter = Counter([sol.fitness() for sol in ranking_selected_solutions])\n",
    "    tournament_fitness_counter = Counter([sol.fitness() for sol in tournament_selected_solutions])\n",
    "    \n",
    "    # Print the selection frequency for both methods\n",
    "    print(\"\\nRanking Selection Frequency (100 Selections):\")\n",
    "    for fitness, count in ranking_fitness_counter.items():\n",
    "        print(f\"Fitness {fitness}: Selected {count} times\")\n",
    "    \n",
    "    print(\"\\nTournament Selection Frequency (100 Selections):\")\n",
    "    for fitness, count in tournament_fitness_counter.items():\n",
    "        print(f\"Fitness {fitness}: Selected {count} times\")\n",
    "\n",
    "# Run the test\n",
    "test_selection()"
   ]
  },
  {
   "cell_type": "code",
   "execution_count": null,
   "id": "b8f91171",
   "metadata": {},
   "outputs": [],
   "source": []
  }
 ],
 "metadata": {
  "kernelspec": {
   "display_name": "base",
   "language": "python",
   "name": "python3"
  },
  "language_info": {
   "codemirror_mode": {
    "name": "ipython",
    "version": 3
   },
   "file_extension": ".py",
   "mimetype": "text/x-python",
   "name": "python",
   "nbconvert_exporter": "python",
   "pygments_lexer": "ipython3",
   "version": "3.12.4"
  }
 },
 "nbformat": 4,
 "nbformat_minor": 5
}

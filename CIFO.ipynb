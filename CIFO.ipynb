{
 "cells": [
  {
   "cell_type": "code",
   "execution_count": 1,
   "id": "77ae0f13",
   "metadata": {},
   "outputs": [],
   "source": [
    "import sys\n",
    "sys.path.append('..')\n",
    "import random\n",
    "import numpy as np\n",
    "import pandas as pd\n",
    "from copy import deepcopy\n",
    "from collections import Counter"
   ]
  },
  {
   "cell_type": "markdown",
   "id": "9d428df5",
   "metadata": {},
   "source": [
    "# Load the Data"
   ]
  },
  {
   "cell_type": "code",
   "execution_count": 2,
   "id": "aeeda031",
   "metadata": {},
   "outputs": [],
   "source": [
    "# Load the data from the Excel file\n",
    "df = pd.read_excel('players.xlsx')\n",
    "\n",
    "# Extract player data\n",
    "players = []\n",
    "for _, row in df.iterrows():\n",
    "    players.append((row['Name'], row['Position'], row['Skill'], row['Salary (â‚¬M)']))"
   ]
  },
  {
   "cell_type": "code",
   "execution_count": 3,
   "id": "c893a92a",
   "metadata": {},
   "outputs": [
    {
     "name": "stdout",
     "output_type": "stream",
     "text": [
      "         Player Name Position  Rating  Performance\n",
      "0        Alex Carter       GK      85           90\n",
      "1       Jordan Smith       GK      88          100\n",
      "2      Ryan Mitchell       GK      83           85\n",
      "3     Chris Thompson       GK      80           80\n",
      "4    Blake Henderson       GK      87           95\n",
      "5      Daniel Foster      DEF      90          110\n",
      "6      Lucas Bennett      DEF      85           90\n",
      "7        Owen Parker      DEF      88          100\n",
      "8       Ethan Howard      DEF      80           70\n",
      "9         Mason Reed      DEF      82           75\n",
      "10      Logan Brooks      DEF      86           95\n",
      "11      Caleb Fisher      DEF      84           85\n",
      "12     Nathan Wright      MID      92          120\n",
      "13      Connor Hayes      MID      89          105\n",
      "14      Dylan Morgan      MID      91          115\n",
      "15     Hunter Cooper      MID      83           85\n",
      "16     Austin Torres      MID      82           80\n",
      "17  Gavin Richardson      MID      87           95\n",
      "18      Spencer Ward      MID      84           85\n",
      "19   Sebastian Perry      FWD      95          150\n",
      "20     Xavier Bryant      FWD      90          120\n",
      "21    Elijah Sanders      FWD      93          140\n",
      "22    Adrian Collins      FWD      85           90\n",
      "23     Tyler Jenkins      FWD      80           70\n",
      "24      Chase Murphy      FWD      86           95\n",
      "25     Landon Powell      FWD      89          110\n",
      "26      Julian Scott      FWD      92          130\n",
      "27    Bentley Rivera      MID      88          100\n",
      "28    Maxwell Flores      DEF      81           72\n",
      "29      Dominic Bell      MID      86           95\n",
      "30     Jaxon Griffin      DEF      79           65\n",
      "31   Ashton Phillips      MID      90          110\n",
      "32       Colton Gray      FWD      91          125\n",
      "33    Brayden Hughes      DEF      87          100\n",
      "34    Zachary Nelson      FWD      86           92\n"
     ]
    }
   ],
   "source": [
    "df = pd.DataFrame(players, columns=['Player Name', 'Position', 'Rating', 'Performance'])\n",
    "print(df)"
   ]
  },
  {
   "cell_type": "code",
   "execution_count": 4,
   "id": "aba03c84",
   "metadata": {},
   "outputs": [
    {
     "data": {
      "text/plain": [
       "[('Alex Carter', 'GK', 85, 90),\n",
       " ('Jordan Smith', 'GK', 88, 100),\n",
       " ('Ryan Mitchell', 'GK', 83, 85),\n",
       " ('Chris Thompson', 'GK', 80, 80),\n",
       " ('Blake Henderson', 'GK', 87, 95),\n",
       " ('Daniel Foster', 'DEF', 90, 110),\n",
       " ('Lucas Bennett', 'DEF', 85, 90),\n",
       " ('Owen Parker', 'DEF', 88, 100),\n",
       " ('Ethan Howard', 'DEF', 80, 70),\n",
       " ('Mason Reed', 'DEF', 82, 75),\n",
       " ('Logan Brooks', 'DEF', 86, 95),\n",
       " ('Caleb Fisher', 'DEF', 84, 85),\n",
       " ('Nathan Wright', 'MID', 92, 120),\n",
       " ('Connor Hayes', 'MID', 89, 105),\n",
       " ('Dylan Morgan', 'MID', 91, 115),\n",
       " ('Hunter Cooper', 'MID', 83, 85),\n",
       " ('Austin Torres', 'MID', 82, 80),\n",
       " ('Gavin Richardson', 'MID', 87, 95),\n",
       " ('Spencer Ward', 'MID', 84, 85),\n",
       " ('Sebastian Perry', 'FWD', 95, 150),\n",
       " ('Xavier Bryant', 'FWD', 90, 120),\n",
       " ('Elijah Sanders', 'FWD', 93, 140),\n",
       " ('Adrian Collins', 'FWD', 85, 90),\n",
       " ('Tyler Jenkins', 'FWD', 80, 70),\n",
       " ('Chase Murphy', 'FWD', 86, 95),\n",
       " ('Landon Powell', 'FWD', 89, 110),\n",
       " ('Julian Scott', 'FWD', 92, 130),\n",
       " ('Bentley Rivera', 'MID', 88, 100),\n",
       " ('Maxwell Flores', 'DEF', 81, 72),\n",
       " ('Dominic Bell', 'MID', 86, 95),\n",
       " ('Jaxon Griffin', 'DEF', 79, 65),\n",
       " ('Ashton Phillips', 'MID', 90, 110),\n",
       " ('Colton Gray', 'FWD', 91, 125),\n",
       " ('Brayden Hughes', 'DEF', 87, 100),\n",
       " ('Zachary Nelson', 'FWD', 86, 92)]"
      ]
     },
     "execution_count": 4,
     "metadata": {},
     "output_type": "execute_result"
    }
   ],
   "source": [
    "players"
   ]
  },
  {
   "cell_type": "code",
   "execution_count": 18,
   "id": "697b5499",
   "metadata": {},
   "outputs": [],
   "source": [
    "# Constants\n",
    "NUM_TEAMS = 5\n",
    "PLAYERS_PER_TEAM = 7\n",
    "MAX_BUDGET = 750  # Million €\n",
    "POSITION_REQUIREMENTS = {\"GK\": 1, \"DEF\": 2, \"MID\": 2, \"FWD\": 2}"
   ]
  },
  {
   "cell_type": "code",
   "execution_count": 19,
   "id": "1033421e",
   "metadata": {},
   "outputs": [],
   "source": [
    "class TeamAssignmentSolution:\n",
    "    def __init__(self, players, population=None):\n",
    "        self.players = players  # List of players that will be assigned to teams\n",
    "        self.population = population if population else {}  # Dictionary with team assignments\n",
    "    \n",
    "    def random_initial_representation(self):\n",
    "        \"\"\"Randomly create a valid team assignment representation.\"\"\"\n",
    "        # Initialize empty teams with required position slots and cost trackers\n",
    "        teams = {i: {\"GK\": [], \"DEF\": [], \"MID\": [], \"FWD\": [], \"total_cost\": 0} for i in range(NUM_TEAMS)}\n",
    "        \n",
    "        # Shuffle players to randomly assign them to teams\n",
    "        shuffled_players = random.sample(self.players, len(self.players))\n",
    "        \n",
    "        for player in shuffled_players:\n",
    "            player_name, position, skill, cost = player\n",
    "            assigned = False\n",
    "            # Try to assign the player to a team while respecting position and budget constraints\n",
    "            for team_id in teams:\n",
    "                if len(teams[team_id][position]) < POSITION_REQUIREMENTS[position] and teams[team_id][\"total_cost\"] + cost <= MAX_BUDGET:\n",
    "                    teams[team_id][position].append(player)\n",
    "                    teams[team_id][\"total_cost\"] += cost\n",
    "                    assigned = True\n",
    "                    break\n",
    "            if not assigned:\n",
    "                continue  # Skip players that can't be assigned under budget or position constraints\n",
    "        \n",
    "        # Store the generated team assignment\n",
    "        self.population = teams\n",
    "        return self.population\n",
    "    \n",
    "    def fitness(self):\n",
    "        \"\"\"Evaluate the quality of the solution.\"\"\"\n",
    "        team_avg_skills = []\n",
    "        \n",
    "        # Iterate over each team in the population\n",
    "        for team in self.population.values():\n",
    "            total_skill = 0\n",
    "            total_players = 0\n",
    "            \n",
    "            # Iterate over each position (GK, DEF, MID, FWD)\n",
    "            for position in [\"GK\", \"DEF\", \"MID\", \"FWD\"]:\n",
    "                if len(team[position]) > 0:  # Ensure the position is filled\n",
    "                    for player in team[position]:\n",
    "                        total_skill += player[2]  # Add the skill rating of the player\n",
    "                        total_players += 1  # Count the player\n",
    "            \n",
    "            # Calculate the average skill rating for the team\n",
    "            avg_skill = total_skill / total_players if total_players > 0 else 0\n",
    "            team_avg_skills.append(avg_skill)\n",
    "\n",
    "        # Calculate the standard deviation of the average skill ratings across teams\n",
    "        std_dev = np.std(team_avg_skills)\n",
    "        return std_dev\n"
   ]
  },
  {
   "cell_type": "code",
   "execution_count": 23,
   "id": "6938226b",
   "metadata": {},
   "outputs": [
    {
     "name": "stdout",
     "output_type": "stream",
     "text": [
      "Fitness Score: 1.4410880243335396\n"
     ]
    }
   ],
   "source": [
    "# Create an instance of the TeamAssignmentSolution class\n",
    "solution = TeamAssignmentSolution(players)\n",
    "solution.random_initial_representation()\n",
    "\n",
    "# Evaluate the fitness of the initial population\n",
    "fitness_score = solution.fitness()\n",
    "print(f\"Fitness Score: {fitness_score}\")"
   ]
  },
  {
   "cell_type": "markdown",
   "id": "eb12241a",
   "metadata": {},
   "source": [
    "# Selection Mechanism"
   ]
  },
  {
   "cell_type": "markdown",
   "id": "22c0c736",
   "metadata": {},
   "source": [
    "In Ranking Selection, solutions with better fitness (lower fitness in a minimization problem) should be selected more frequently, as their ranks will be higher."
   ]
  },
  {
   "cell_type": "code",
   "execution_count": 8,
   "id": "630bd312",
   "metadata": {},
   "outputs": [],
   "source": [
    "def ranking_selection(population: list, maximization: bool = False):\n",
    "    \"\"\"Ranking Selection\"\"\"\n",
    "    \n",
    "    # Sort the population based on fitness\n",
    "    sorted_population = sorted(population, key=lambda ind: ind.fitness())\n",
    "    \n",
    "    # For minimization, rank from best to worst (lower fitness gets a higher rank)\n",
    "    if not maximization:\n",
    "        sorted_population.reverse()  # Reverse the sorting for minimization (lower fitness first)\n",
    "    \n",
    "    # Assign ranks to each individual (1 for the best, 2 for second-best, etc.)\n",
    "    ranks = list(range(1, len(population) + 1))\n",
    "    \n",
    "    # Calculate selection probabilities based on ranks\n",
    "    total_rank = sum(ranks)\n",
    "    probabilities = [rank / total_rank for rank in ranks]\n",
    "    \n",
    "    # Select an individual based on the rank probabilities\n",
    "    random_nr = random.uniform(0, 1)\n",
    "    cumulative_prob = 0\n",
    "    \n",
    "    for idx, prob in enumerate(probabilities):\n",
    "        cumulative_prob += prob\n",
    "        if random_nr <= cumulative_prob:\n",
    "            return deepcopy(sorted_population[idx])  # Return the selected individual"
   ]
  },
  {
   "cell_type": "markdown",
   "id": "77321554",
   "metadata": {},
   "source": [
    "In Tournament Selection, since the individuals are randomly chosen, the frequency distribution will depend on the tournament size and randomness of the selections."
   ]
  },
  {
   "cell_type": "code",
   "execution_count": 9,
   "id": "9892e2a8",
   "metadata": {},
   "outputs": [],
   "source": [
    "def tournament_selection(population: list, tournament_size: int = 3, maximization: bool = False):\n",
    "    \"\"\"Tournament Selection\"\"\"\n",
    "    \n",
    "    # Randomly select a subset of individuals (tournament size)\n",
    "    tournament_individuals = random.sample(population, tournament_size)\n",
    "    \n",
    "    # Sort the tournament individuals by fitness (minimization, so lower is better)\n",
    "    if maximization:\n",
    "        best_individual = min(tournament_individuals, key=lambda ind: ind.fitness())  # For maximization: select best\n",
    "    else:\n",
    "        best_individual = max(tournament_individuals, key=lambda ind: ind.fitness())  # For minimization: select best\n",
    "    \n",
    "    return deepcopy(best_individual)  # Return the best individual from the tournament"
   ]
  },
  {
   "cell_type": "code",
   "execution_count": 10,
   "id": "b2c3e009",
   "metadata": {},
   "outputs": [
    {
     "name": "stdout",
     "output_type": "stream",
     "text": [
      "Solution 1 - Fitness: 1.2853967861945135\n",
      "Solution 2 - Fitness: 1.2067835475395925\n",
      "Solution 3 - Fitness: 2.495347144109314\n",
      "Solution 4 - Fitness: 1.386229653795222\n",
      "Solution 5 - Fitness: 1.0552105892925367\n",
      "Solution 6 - Fitness: 1.2202375145178639\n",
      "Solution 7 - Fitness: 0.825115947325352\n",
      "Solution 8 - Fitness: 1.126308762538688\n",
      "Solution 9 - Fitness: 2.2882129200201042\n",
      "Solution 10 - Fitness: 1.8547236990991414\n",
      "\n",
      "Ranking Selection Frequency (100 Selections):\n",
      "Fitness 0.825115947325352: Selected 23 times\n",
      "Fitness 1.2202375145178639: Selected 9 times\n",
      "Fitness 2.495347144109314: Selected 4 times\n",
      "Fitness 1.126308762538688: Selected 17 times\n",
      "Fitness 1.0552105892925367: Selected 14 times\n",
      "Fitness 1.2067835475395925: Selected 9 times\n",
      "Fitness 1.2853967861945135: Selected 10 times\n",
      "Fitness 2.2882129200201042: Selected 4 times\n",
      "Fitness 1.8547236990991414: Selected 5 times\n",
      "Fitness 1.386229653795222: Selected 5 times\n",
      "\n",
      "Tournament Selection Frequency (100 Selections):\n",
      "Fitness 2.495347144109314: Selected 23 times\n",
      "Fitness 1.8547236990991414: Selected 20 times\n",
      "Fitness 2.2882129200201042: Selected 23 times\n",
      "Fitness 1.2202375145178639: Selected 4 times\n",
      "Fitness 1.386229653795222: Selected 15 times\n",
      "Fitness 1.2067835475395925: Selected 3 times\n",
      "Fitness 1.126308762538688: Selected 2 times\n",
      "Fitness 1.2853967861945135: Selected 10 times\n"
     ]
    }
   ],
   "source": [
    "def test_selection():\n",
    "    # Create a small population of TeamAssignmentSolution instances\n",
    "    population = [TeamAssignmentSolution(players) for _ in range(10)]\n",
    "    \n",
    "    # Ensure that each individual has been initialized properly\n",
    "    for i, sol in enumerate(population):\n",
    "        sol.random_initial_representation()\n",
    "        print(f\"Solution {i+1} - Fitness: {sol.fitness()}\")\n",
    "    \n",
    "    # Run the selection process multiple times (e.g., 100 times) for both methods\n",
    "    ranking_selected_solutions = [ranking_selection(population) for _ in range(100)]\n",
    "    tournament_selected_solutions = [tournament_selection(population) for _ in range(100)]\n",
    "    \n",
    "    # Count how many times each fitness was selected\n",
    "    ranking_fitness_counter = Counter([sol.fitness() for sol in ranking_selected_solutions])\n",
    "    tournament_fitness_counter = Counter([sol.fitness() for sol in tournament_selected_solutions])\n",
    "    \n",
    "    # Print the selection frequency for both methods\n",
    "    print(\"\\nRanking Selection Frequency (100 Selections):\")\n",
    "    for fitness, count in ranking_fitness_counter.items():\n",
    "        print(f\"Fitness {fitness}: Selected {count} times\")\n",
    "    \n",
    "    print(\"\\nTournament Selection Frequency (100 Selections):\")\n",
    "    for fitness, count in tournament_fitness_counter.items():\n",
    "        print(f\"Fitness {fitness}: Selected {count} times\")\n",
    "\n",
    "# Run the test\n",
    "test_selection()"
   ]
  },
  {
   "cell_type": "markdown",
   "id": "517fbf95",
   "metadata": {},
   "source": [
    "# Mutation Operators"
   ]
  },
  {
   "cell_type": "markdown",
   "id": "e38c4701",
   "metadata": {},
   "source": [
    "This function performs a verbose mutation by swapping one player of the same position between two randomly chosen teams and printing both teams’ lineups before and after the swap for clarity."
   ]
  },
  {
   "cell_type": "code",
   "execution_count": null,
   "id": "cfce555e",
   "metadata": {},
   "outputs": [
    {
     "name": "stdout",
     "output_type": "stream",
     "text": [
      "\n",
      " Swapping between Team 3 and Team 2 at position MID\n",
      "\n",
      "Before Mutation:\n",
      "Team 3 MID: ['Nathan Wright', 'Dylan Morgan']\n",
      "Team 2 MID: ['Austin Torres', 'Connor Hayes']\n",
      "\n",
      "After Mutation:\n",
      "Team 3 MID: ['Nathan Wright', 'Austin Torres']\n",
      "Team 2 MID: ['Dylan Morgan', 'Connor Hayes']\n"
     ]
    }
   ],
   "source": [
    "def mutate_swap_same_position(solution: TeamAssignmentSolution):\n",
    "    team_ids = list(solution.population.keys())\n",
    "    t1, t2 = random.sample(team_ids, 2)\n",
    "    pos = random.choice([\"GK\", \"DEF\", \"MID\", \"FWD\"])\n",
    "\n",
    "    if not solution.population[t1][pos] or not solution.population[t2][pos]:\n",
    "        print(\"No mutation occurred — one of the teams had no players in position:\", pos)\n",
    "        return\n",
    "\n",
    "    p1_idx = random.randint(0, len(solution.population[t1][pos]) - 1)\n",
    "    p2_idx = random.randint(0, len(solution.population[t2][pos]) - 1)\n",
    "\n",
    "    print(f\"\\n Swapping between Team {t1} and Team {t2} at position {pos.upper()}\")\n",
    "\n",
    "    print(f\"\\nBefore Mutation:\")\n",
    "    print(f\"Team {t1} {pos}: {[p[0] for p in solution.population[t1][pos]]}\")\n",
    "    print(f\"Team {t2} {pos}: {[p[0] for p in solution.population[t2][pos]]}\")\n",
    "\n",
    "    # Swap\n",
    "    solution.population[t1][pos][p1_idx], solution.population[t2][pos][p2_idx] = \\\n",
    "        solution.population[t2][pos][p2_idx], solution.population[t1][pos][p1_idx]\n",
    "\n",
    "    print(f\"\\nAfter Mutation:\")\n",
    "    print(f\"Team {t1} {pos}: {[p[0] for p in solution.population[t1][pos]]}\")\n",
    "    print(f\"Team {t2} {pos}: {[p[0] for p in solution.population[t2][pos]]}\")\n",
    "\n",
    "# Run the test:\n",
    "mutate_swap_same_position(solution)\n"
   ]
  },
  {
   "cell_type": "markdown",
   "id": "272da8c4",
   "metadata": {},
   "source": [
    "This mutation function swaps two players between different positions within a team, ensuring that the team’s total cost does not exceed the budget limit after the swap."
   ]
  },
  {
   "cell_type": "code",
   "execution_count": 54,
   "id": "f8043ea3",
   "metadata": {},
   "outputs": [
    {
     "name": "stdout",
     "output_type": "stream",
     "text": [
      "\n",
      " Swapping within Team 2: Connor Hayes (MID) <-> Tyler Jenkins (FWD)\n",
      "\n",
      "Before Mutation - Team 2:\n",
      "GK: ['Blake Henderson']\n",
      "DEF: ['Owen Parker', 'Lucas Bennett']\n",
      "MID: ['Dylan Morgan', 'Connor Hayes']\n",
      "FWD: ['Tyler Jenkins', 'Ryan Mitchell']\n",
      "Cost: 725\n",
      "\n",
      "After Mutation - Team 2:\n",
      "GK: ['Blake Henderson']\n",
      "DEF: ['Owen Parker', 'Lucas Bennett']\n",
      "MID: ['Dylan Morgan', 'Tyler Jenkins']\n",
      "FWD: ['Connor Hayes', 'Ryan Mitchell']\n",
      "Cost: 725\n"
     ]
    }
   ],
   "source": [
    "def mutate_swap_positions_within_team(solution: TeamAssignmentSolution):\n",
    "    team_ids = list(solution.population.keys())\n",
    "    team_id = random.choice(team_ids)\n",
    "    team = solution.population[team_id]\n",
    "\n",
    "    pos1, pos2 = random.sample([\"GK\", \"DEF\", \"MID\", \"FWD\"], 2)\n",
    "\n",
    "    if not team[pos1] or not team[pos2]:\n",
    "        print(\"Mutation skipped: one of the positions is empty.\")\n",
    "        return\n",
    "\n",
    "    idx1 = random.randint(0, len(team[pos1]) - 1)\n",
    "    idx2 = random.randint(0, len(team[pos2]) - 1)\n",
    "\n",
    "    p1 = team[pos1][idx1]\n",
    "    p2 = team[pos2][idx2]\n",
    "\n",
    "    new_cost = team[\"total_cost\"] - p1[3] - p2[3] + p2[3] + p1[3]\n",
    "\n",
    "    print(f\"\\n Swapping within Team {team_id}: {p1[0]} ({pos1}) <-> {p2[0]} ({pos2})\")\n",
    "\n",
    "    print(f\"\\nBefore Mutation - Team {team_id}:\")\n",
    "    for pos in [\"GK\", \"DEF\", \"MID\", \"FWD\"]:\n",
    "        print(f\"{pos}: {[p[0] for p in team[pos]]}\")\n",
    "    print(\"Cost:\", team[\"total_cost\"])\n",
    "\n",
    "    if new_cost <= MAX_BUDGET:\n",
    "        team[pos1][idx1], team[pos2][idx2] = p2, p1\n",
    "        team[\"total_cost\"] = new_cost\n",
    "\n",
    "        print(f\"\\nAfter Mutation - Team {team_id}:\")\n",
    "        for pos in [\"GK\", \"DEF\", \"MID\", \"FWD\"]:\n",
    "            print(f\"{pos}: {[p[0] for p in team[pos]]}\")\n",
    "        print(\"Cost:\", team[\"total_cost\"])\n",
    "    else:\n",
    "        print(\"Mutation cancelled: would exceed budget.\")\n",
    "\n",
    "# Run the test:\n",
    "mutate_swap_positions_within_team(solution)\n"
   ]
  },
  {
   "cell_type": "markdown",
   "id": "fbcc66b3",
   "metadata": {},
   "source": [
    "This function swaps three players from different positions (GK, DEF, MID, FWD) within a team, ensuring that the team structure (1 GK, 2 DEF, 2 MID, 2 FWD) remains valid, and shuffling the players while preserving the overall team balance."
   ]
  },
  {
   "cell_type": "code",
   "execution_count": 68,
   "id": "a37e10a8",
   "metadata": {},
   "outputs": [
    {
     "name": "stdout",
     "output_type": "stream",
     "text": [
      "\n",
      "Before Mutation:\n",
      "Team 4 GK: ['Bentley Rivera']\n",
      "Team 4 DEF: ['Ethan Howard', 'Jaxon Griffin']\n",
      "Team 4 MID: ['Xavier Bryant', 'Jordan Smith']\n",
      "\n",
      "After Mutation:\n",
      "Team 4 GK: ['Ethan Howard']\n",
      "Team 4 DEF: ['Jordan Smith', 'Jaxon Griffin']\n",
      "Team 4 MID: ['Xavier Bryant', 'Bentley Rivera']\n"
     ]
    }
   ],
   "source": [
    "def mutate_swap_three_players(solution: TeamAssignmentSolution):\n",
    "    team_to_mutate = random.choice(list(solution.population.keys()))\n",
    "    positions = [\"GK\", \"DEF\", \"MID\", \"FWD\"]\n",
    "    \n",
    "    # Randomly select three distinct positions to swap players\n",
    "    pos1, pos2, pos3 = random.sample(positions, 3)\n",
    "    \n",
    "    # Ensure all selected positions have players to swap\n",
    "    if not solution.population[team_to_mutate][pos1] or \\\n",
    "       not solution.population[team_to_mutate][pos2] or \\\n",
    "       not solution.population[team_to_mutate][pos3]:\n",
    "        return\n",
    "    \n",
    "    # Select random players from each position\n",
    "    player1_idx = random.randint(0, len(solution.population[team_to_mutate][pos1]) - 1)\n",
    "    player2_idx = random.randint(0, len(solution.population[team_to_mutate][pos2]) - 1)\n",
    "    player3_idx = random.randint(0, len(solution.population[team_to_mutate][pos3]) - 1)\n",
    "    \n",
    "    player1 = solution.population[team_to_mutate][pos1][player1_idx]\n",
    "    player2 = solution.population[team_to_mutate][pos2][player2_idx]\n",
    "    player3 = solution.population[team_to_mutate][pos3][player3_idx]\n",
    "    \n",
    "    # Print before the mutation\n",
    "    print(f\"\\nBefore Mutation:\")\n",
    "    print(f\"Team {team_to_mutate} {pos1}: {[p[0] for p in solution.population[team_to_mutate][pos1]]}\")\n",
    "    print(f\"Team {team_to_mutate} {pos2}: {[p[0] for p in solution.population[team_to_mutate][pos2]]}\")\n",
    "    print(f\"Team {team_to_mutate} {pos3}: {[p[0] for p in solution.population[team_to_mutate][pos3]]}\")\n",
    "    \n",
    "    # Swap the three players\n",
    "    solution.population[team_to_mutate][pos1][player1_idx], solution.population[team_to_mutate][pos2][player2_idx], solution.population[team_to_mutate][pos3][player3_idx] = \\\n",
    "        solution.population[team_to_mutate][pos2][player2_idx], solution.population[team_to_mutate][pos3][player3_idx], solution.population[team_to_mutate][pos1][player1_idx]\n",
    "    \n",
    "    # Print after the mutation\n",
    "    print(f\"\\nAfter Mutation:\")\n",
    "    print(f\"Team {team_to_mutate} {pos1}: {[p[0] for p in solution.population[team_to_mutate][pos1]]}\")\n",
    "    print(f\"Team {team_to_mutate} {pos2}: {[p[0] for p in solution.population[team_to_mutate][pos2]]}\")\n",
    "    print(f\"Team {team_to_mutate} {pos3}: {[p[0] for p in solution.population[team_to_mutate][pos3]]}\")\n",
    "\n",
    "# Run the test\n",
    "mutate_swap_three_players(solution)\n"
   ]
  },
  {
   "cell_type": "markdown",
   "id": "a6d2af6e",
   "metadata": {},
   "source": [
    "# Crossover Operators"
   ]
  },
  {
   "cell_type": "code",
   "execution_count": null,
   "id": "cdbc2348",
   "metadata": {},
   "outputs": [],
   "source": [
    "def crossover_team_blocks(parent1: TeamAssignmentSolution, parent2: TeamAssignmentSolution):\n",
    "    crossover_point = random.randint(1, NUM_TEAMS - 1)\n",
    "    child1_teams = {}\n",
    "    child2_teams = {}\n",
    "    \n",
    "    for i in range(NUM_TEAMS):\n",
    "        if i < crossover_point:\n",
    "            child1_teams[i] = deepcopy(parent1.population[i])\n",
    "            child2_teams[i] = deepcopy(parent2.population[i])\n",
    "        else:\n",
    "            child1_teams[i] = deepcopy(parent2.population[i])\n",
    "            child2_teams[i] = deepcopy(parent1.population[i])\n",
    "    \n",
    "    return TeamAssignmentSolution(parent1.players, child1_teams), TeamAssignmentSolution(parent2.players, child2_teams)"
   ]
  },
  {
   "cell_type": "code",
   "execution_count": 106,
   "id": "a6318be4",
   "metadata": {},
   "outputs": [
    {
     "name": "stdout",
     "output_type": "stream",
     "text": [
      "Offspring 1:\n",
      "Team 0: {'GK': [('Blake Henderson', 'GK', 87, 95)], 'DEF': [('Logan Brooks', 'DEF', 86, 95), ('Brayden Hughes', 'DEF', 87, 100)], 'MID': [('Ashton Phillips', 'MID', 90, 110), ('Dominic Bell', 'MID', 86, 95)], 'FWD': [('Zachary Nelson', 'FWD', 86, 92), ('Colton Gray', 'FWD', 91, 125)], 'total_cost': 712}\n",
      "Team 1: {'GK': [('Alex Carter', 'GK', 85, 90)], 'DEF': [('Daniel Foster', 'DEF', 90, 110), ('Maxwell Flores', 'DEF', 81, 72)], 'MID': [('Bentley Rivera', 'MID', 88, 100), ('Dylan Morgan', 'MID', 91, 115)], 'FWD': [('Sebastian Perry', 'FWD', 95, 150), ('Adrian Collins', 'FWD', 85, 90)], 'total_cost': 727}\n",
      "Team 2: {'GK': [('Ryan Mitchell', 'GK', 83, 85)], 'DEF': [('Lucas Bennett', 'DEF', 85, 90), ('Owen Parker', 'DEF', 88, 100)], 'MID': [('Connor Hayes', 'MID', 89, 105), ('Gavin Richardson', 'MID', 87, 95)], 'FWD': [('Landon Powell', 'FWD', 89, 110), ('Julian Scott', 'FWD', 92, 130)], 'total_cost': 715}\n",
      "Team 3: {'GK': [('Blake Henderson', 'GK', 87, 95)], 'DEF': [('Owen Parker', 'DEF', 88, 100), ('Caleb Fisher', 'DEF', 84, 85)], 'MID': [('Ashton Phillips', 'MID', 90, 110), ('Nathan Wright', 'MID', 92, 120)], 'FWD': [('Landon Powell', 'FWD', 89, 110), ('Zachary Nelson', 'FWD', 86, 92)], 'total_cost': 712}\n",
      "Team 4: {'GK': [('Ryan Mitchell', 'GK', 83, 85)], 'DEF': [('Brayden Hughes', 'DEF', 87, 100), ('Jaxon Griffin', 'DEF', 79, 65)], 'MID': [('Dylan Morgan', 'MID', 91, 115), ('Dominic Bell', 'MID', 86, 95)], 'FWD': [('Julian Scott', 'FWD', 92, 130), ('Colton Gray', 'FWD', 91, 125)], 'total_cost': 715}\n",
      "\n",
      "Offspring 2:\n",
      "Team 0: {'GK': [('Alex Carter', 'GK', 85, 90)], 'DEF': [('Daniel Foster', 'DEF', 90, 110), ('Logan Brooks', 'DEF', 86, 95)], 'MID': [('Spencer Ward', 'MID', 84, 85), ('Bentley Rivera', 'MID', 88, 100)], 'FWD': [('Elijah Sanders', 'FWD', 93, 140), ('Tyler Jenkins', 'FWD', 80, 70)], 'total_cost': 690}\n",
      "Team 1: {'GK': [('Jordan Smith', 'GK', 88, 100)], 'DEF': [('Ethan Howard', 'DEF', 80, 70), ('Maxwell Flores', 'DEF', 81, 72)], 'MID': [('Connor Hayes', 'MID', 89, 105), ('Hunter Cooper', 'MID', 83, 85)], 'FWD': [('Adrian Collins', 'FWD', 85, 90), ('Chase Murphy', 'FWD', 86, 95)], 'total_cost': 617}\n",
      "Team 2: {'GK': [('Chris Thompson', 'GK', 80, 80)], 'DEF': [('Mason Reed', 'DEF', 82, 75), ('Lucas Bennett', 'DEF', 85, 90)], 'MID': [('Austin Torres', 'MID', 82, 80), ('Gavin Richardson', 'MID', 87, 95)], 'FWD': [('Xavier Bryant', 'FWD', 90, 120), ('Sebastian Perry', 'FWD', 95, 150)], 'total_cost': 690}\n",
      "Team 3: {'GK': [('Jordan Smith', 'GK', 88, 100)], 'DEF': [('Mason Reed', 'DEF', 82, 75), ('Jaxon Griffin', 'DEF', 79, 65)], 'MID': [('Austin Torres', 'MID', 82, 80), ('Hunter Cooper', 'MID', 83, 85)], 'FWD': [('Xavier Bryant', 'FWD', 90, 120), ('Elijah Sanders', 'FWD', 93, 140)], 'total_cost': 665}\n",
      "Team 4: {'GK': [('Chris Thompson', 'GK', 80, 80)], 'DEF': [('Caleb Fisher', 'DEF', 84, 85), ('Ethan Howard', 'DEF', 80, 70)], 'MID': [('Spencer Ward', 'MID', 84, 85), ('Nathan Wright', 'MID', 92, 120)], 'FWD': [('Tyler Jenkins', 'FWD', 80, 70), ('Chase Murphy', 'FWD', 86, 95)], 'total_cost': 605}\n"
     ]
    }
   ],
   "source": [
    "parent1 = TeamAssignmentSolution(players)\n",
    "parent1.random_initial_representation()\n",
    "\n",
    "parent2 = TeamAssignmentSolution(players)\n",
    "parent2.random_initial_representation()\n",
    "\n",
    "# Perform crossover\n",
    "offspring1, offspring2 = crossover_team_blocks(parent1, parent2)\n",
    "\n",
    "# Print results for offspring1 and offspring2\n",
    "print(\"Offspring 1:\")\n",
    "for team_id, team in offspring1.population.items():\n",
    "    print(f\"Team {team_id}: {team}\")\n",
    "\n",
    "print(\"\\nOffspring 2:\")\n",
    "for team_id, team in offspring2.population.items():\n",
    "    print(f\"Team {team_id}: {team}\")"
   ]
  },
  {
   "cell_type": "code",
   "execution_count": null,
   "id": "7a6652cb",
   "metadata": {},
   "outputs": [],
   "source": [
    "epa ya nao tou a perceber"
   ]
  },
  {
   "cell_type": "code",
   "execution_count": null,
   "id": "b58c408d",
   "metadata": {},
   "outputs": [],
   "source": []
  }
 ],
 "metadata": {
  "kernelspec": {
   "display_name": "base",
   "language": "python",
   "name": "python3"
  },
  "language_info": {
   "codemirror_mode": {
    "name": "ipython",
    "version": 3
   },
   "file_extension": ".py",
   "mimetype": "text/x-python",
   "name": "python",
   "nbconvert_exporter": "python",
   "pygments_lexer": "ipython3",
   "version": "3.12.4"
  }
 },
 "nbformat": 4,
 "nbformat_minor": 5
}
